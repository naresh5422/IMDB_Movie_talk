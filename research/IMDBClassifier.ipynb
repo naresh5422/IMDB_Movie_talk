{
 "cells": [
  {
   "cell_type": "markdown",
   "metadata": {},
   "source": [
    "### Check directory and change the path"
   ]
  },
  {
   "cell_type": "code",
   "execution_count": 1,
   "metadata": {},
   "outputs": [],
   "source": [
    "import os\n",
    "import sys"
   ]
  },
  {
   "cell_type": "code",
   "execution_count": 2,
   "metadata": {},
   "outputs": [
    {
     "data": {
      "text/plain": [
       "'/home/cdot/PycharmProjects/IMDB_Movie_talk/research'"
      ]
     },
     "execution_count": 2,
     "metadata": {},
     "output_type": "execute_result"
    }
   ],
   "source": [
    "%pwd"
   ]
  },
  {
   "cell_type": "code",
   "execution_count": 3,
   "metadata": {},
   "outputs": [],
   "source": [
    "os.chdir(\"../\")"
   ]
  },
  {
   "cell_type": "code",
   "execution_count": 4,
   "metadata": {},
   "outputs": [
    {
     "data": {
      "text/plain": [
       "'/home/cdot/PycharmProjects/IMDB_Movie_talk'"
      ]
     },
     "execution_count": 4,
     "metadata": {},
     "output_type": "execute_result"
    }
   ],
   "source": [
    "%pwd"
   ]
  },
  {
   "cell_type": "markdown",
   "metadata": {},
   "source": [
    "### Import libraries and load the dataset"
   ]
  },
  {
   "cell_type": "code",
   "execution_count": 5,
   "metadata": {},
   "outputs": [],
   "source": [
    "import os\n",
    "import sys\n",
    "import nltk\n",
    "import numpy as np\n",
    "import pandas as pd\n",
    "import matplotlib.pyplot as plt\n",
    "import seaborn\n",
    "from nltk.corpus import stopwords"
   ]
  },
  {
   "cell_type": "code",
   "execution_count": 6,
   "metadata": {},
   "outputs": [
    {
     "name": "stderr",
     "output_type": "stream",
     "text": [
      "[nltk_data] Downloading package punkt to /home/cdot/nltk_data...\n",
      "[nltk_data]   Package punkt is already up-to-date!\n",
      "[nltk_data] Downloading package stopwords to /home/cdot/nltk_data...\n",
      "[nltk_data]   Package stopwords is already up-to-date!\n"
     ]
    },
    {
     "data": {
      "text/plain": [
       "True"
      ]
     },
     "execution_count": 6,
     "metadata": {},
     "output_type": "execute_result"
    }
   ],
   "source": [
    "nltk.download('punkt')\n",
    "nltk.download('stopwords')"
   ]
  },
  {
   "cell_type": "code",
   "execution_count": 7,
   "metadata": {},
   "outputs": [],
   "source": [
    "imdb_df = pd.read_csv(\"IMDBDataset.csv\")\n",
    "df = imdb_df"
   ]
  },
  {
   "cell_type": "markdown",
   "metadata": {},
   "source": [
    "### Analysing the data"
   ]
  },
  {
   "cell_type": "code",
   "execution_count": 8,
   "metadata": {},
   "outputs": [
    {
     "data": {
      "text/plain": [
       "(50000, 2)"
      ]
     },
     "execution_count": 8,
     "metadata": {},
     "output_type": "execute_result"
    }
   ],
   "source": [
    "df.shape"
   ]
  },
  {
   "cell_type": "code",
   "execution_count": 9,
   "metadata": {},
   "outputs": [
    {
     "data": {
      "text/plain": [
       "Index(['review', 'sentiment'], dtype='object')"
      ]
     },
     "execution_count": 9,
     "metadata": {},
     "output_type": "execute_result"
    }
   ],
   "source": [
    "df.columns"
   ]
  },
  {
   "cell_type": "code",
   "execution_count": 10,
   "metadata": {},
   "outputs": [
    {
     "data": {
      "text/html": [
       "<div>\n",
       "<style scoped>\n",
       "    .dataframe tbody tr th:only-of-type {\n",
       "        vertical-align: middle;\n",
       "    }\n",
       "\n",
       "    .dataframe tbody tr th {\n",
       "        vertical-align: top;\n",
       "    }\n",
       "\n",
       "    .dataframe thead th {\n",
       "        text-align: right;\n",
       "    }\n",
       "</style>\n",
       "<table border=\"1\" class=\"dataframe\">\n",
       "  <thead>\n",
       "    <tr style=\"text-align: right;\">\n",
       "      <th></th>\n",
       "      <th>review</th>\n",
       "      <th>sentiment</th>\n",
       "    </tr>\n",
       "  </thead>\n",
       "  <tbody>\n",
       "    <tr>\n",
       "      <th>0</th>\n",
       "      <td>One of the other reviewers has mentioned that ...</td>\n",
       "      <td>positive</td>\n",
       "    </tr>\n",
       "    <tr>\n",
       "      <th>1</th>\n",
       "      <td>A wonderful little production. &lt;br /&gt;&lt;br /&gt;The...</td>\n",
       "      <td>positive</td>\n",
       "    </tr>\n",
       "    <tr>\n",
       "      <th>2</th>\n",
       "      <td>I thought this was a wonderful way to spend ti...</td>\n",
       "      <td>positive</td>\n",
       "    </tr>\n",
       "    <tr>\n",
       "      <th>3</th>\n",
       "      <td>Basically there's a family where a little boy ...</td>\n",
       "      <td>negative</td>\n",
       "    </tr>\n",
       "    <tr>\n",
       "      <th>4</th>\n",
       "      <td>Petter Mattei's \"Love in the Time of Money\" is...</td>\n",
       "      <td>positive</td>\n",
       "    </tr>\n",
       "  </tbody>\n",
       "</table>\n",
       "</div>"
      ],
      "text/plain": [
       "                                              review sentiment\n",
       "0  One of the other reviewers has mentioned that ...  positive\n",
       "1  A wonderful little production. <br /><br />The...  positive\n",
       "2  I thought this was a wonderful way to spend ti...  positive\n",
       "3  Basically there's a family where a little boy ...  negative\n",
       "4  Petter Mattei's \"Love in the Time of Money\" is...  positive"
      ]
     },
     "execution_count": 10,
     "metadata": {},
     "output_type": "execute_result"
    }
   ],
   "source": [
    "df.head()"
   ]
  },
  {
   "cell_type": "code",
   "execution_count": 11,
   "metadata": {},
   "outputs": [
    {
     "data": {
      "text/html": [
       "<div>\n",
       "<style scoped>\n",
       "    .dataframe tbody tr th:only-of-type {\n",
       "        vertical-align: middle;\n",
       "    }\n",
       "\n",
       "    .dataframe tbody tr th {\n",
       "        vertical-align: top;\n",
       "    }\n",
       "\n",
       "    .dataframe thead th {\n",
       "        text-align: right;\n",
       "    }\n",
       "</style>\n",
       "<table border=\"1\" class=\"dataframe\">\n",
       "  <thead>\n",
       "    <tr style=\"text-align: right;\">\n",
       "      <th></th>\n",
       "      <th>review</th>\n",
       "      <th>sentiment</th>\n",
       "    </tr>\n",
       "  </thead>\n",
       "  <tbody>\n",
       "    <tr>\n",
       "      <th>49995</th>\n",
       "      <td>I thought this movie did a down right good job...</td>\n",
       "      <td>positive</td>\n",
       "    </tr>\n",
       "    <tr>\n",
       "      <th>49996</th>\n",
       "      <td>Bad plot, bad dialogue, bad acting, idiotic di...</td>\n",
       "      <td>negative</td>\n",
       "    </tr>\n",
       "    <tr>\n",
       "      <th>49997</th>\n",
       "      <td>I am a Catholic taught in parochial elementary...</td>\n",
       "      <td>negative</td>\n",
       "    </tr>\n",
       "    <tr>\n",
       "      <th>49998</th>\n",
       "      <td>I'm going to have to disagree with the previou...</td>\n",
       "      <td>negative</td>\n",
       "    </tr>\n",
       "    <tr>\n",
       "      <th>49999</th>\n",
       "      <td>No one expects the Star Trek movies to be high...</td>\n",
       "      <td>negative</td>\n",
       "    </tr>\n",
       "  </tbody>\n",
       "</table>\n",
       "</div>"
      ],
      "text/plain": [
       "                                                  review sentiment\n",
       "49995  I thought this movie did a down right good job...  positive\n",
       "49996  Bad plot, bad dialogue, bad acting, idiotic di...  negative\n",
       "49997  I am a Catholic taught in parochial elementary...  negative\n",
       "49998  I'm going to have to disagree with the previou...  negative\n",
       "49999  No one expects the Star Trek movies to be high...  negative"
      ]
     },
     "execution_count": 11,
     "metadata": {},
     "output_type": "execute_result"
    }
   ],
   "source": [
    "df.tail()"
   ]
  },
  {
   "cell_type": "code",
   "execution_count": 12,
   "metadata": {},
   "outputs": [
    {
     "name": "stdout",
     "output_type": "stream",
     "text": [
      "<class 'pandas.core.frame.DataFrame'>\n",
      "RangeIndex: 50000 entries, 0 to 49999\n",
      "Data columns (total 2 columns):\n",
      " #   Column     Non-Null Count  Dtype \n",
      "---  ------     --------------  ----- \n",
      " 0   review     50000 non-null  object\n",
      " 1   sentiment  50000 non-null  object\n",
      "dtypes: object(2)\n",
      "memory usage: 781.4+ KB\n"
     ]
    }
   ],
   "source": [
    "df.info()"
   ]
  },
  {
   "cell_type": "code",
   "execution_count": 13,
   "metadata": {},
   "outputs": [
    {
     "name": "stdout",
     "output_type": "stream",
     "text": [
      "<class 'pandas.core.series.Series'>\n",
      "0    One of the other reviewers has mentioned that ...\n",
      "1    A wonderful little production. <br /><br />The...\n",
      "2    I thought this was a wonderful way to spend ti...\n",
      "Name: review, dtype: object\n"
     ]
    }
   ],
   "source": [
    "feature = df[\"review\"]\n",
    "label = df[\"sentiment\"]\n",
    "\n",
    "print(type(feature))\n",
    "print(feature[0:3])"
   ]
  },
  {
   "cell_type": "code",
   "execution_count": 14,
   "metadata": {},
   "outputs": [
    {
     "data": {
      "text/plain": [
       "sentiment\n",
       "positive    25000\n",
       "negative    25000\n",
       "Name: count, dtype: int64"
      ]
     },
     "execution_count": 14,
     "metadata": {},
     "output_type": "execute_result"
    }
   ],
   "source": [
    "label.value_counts()"
   ]
  },
  {
   "cell_type": "markdown",
   "metadata": {},
   "source": [
    "### Preprocessing the data"
   ]
  },
  {
   "cell_type": "markdown",
   "metadata": {},
   "source": [
    "#### Stemming"
   ]
  },
  {
   "cell_type": "code",
   "execution_count": 15,
   "metadata": {},
   "outputs": [],
   "source": [
    "from sklearn.preprocessing import LabelEncoder"
   ]
  },
  {
   "cell_type": "code",
   "execution_count": 16,
   "metadata": {},
   "outputs": [],
   "source": [
    "le = LabelEncoder()\n",
    "label = le.fit_transform(label)"
   ]
  },
  {
   "cell_type": "code",
   "execution_count": 17,
   "metadata": {},
   "outputs": [
    {
     "data": {
      "text/plain": [
       "array([1, 1, 0, 1, 1, 1, 0, 0, 1])"
      ]
     },
     "execution_count": 17,
     "metadata": {},
     "output_type": "execute_result"
    }
   ],
   "source": [
    "label[1:10]"
   ]
  },
  {
   "cell_type": "code",
   "execution_count": 18,
   "metadata": {},
   "outputs": [],
   "source": [
    "import re\n",
    "from nltk.tokenize import word_tokenize,sent_tokenize\n",
    "from nltk.stem import PorterStemmer, WordNetLemmatizer\n",
    "from sklearn.feature_extraction.text import CountVectorizer,TfidfTransformer"
   ]
  },
  {
   "cell_type": "code",
   "execution_count": 21,
   "metadata": {},
   "outputs": [],
   "source": [
    "ps = PorterStemmer()\n"
   ]
  },
  {
   "cell_type": "code",
   "execution_count": 22,
   "metadata": {},
   "outputs": [
    {
     "data": {
      "text/plain": [
       "179"
      ]
     },
     "execution_count": 22,
     "metadata": {},
     "output_type": "execute_result"
    }
   ],
   "source": [
    "len(stopwords.words('english'))"
   ]
  },
  {
   "cell_type": "code",
   "execution_count": 23,
   "metadata": {},
   "outputs": [
    {
     "name": "stdout",
     "output_type": "stream",
     "text": [
      "177\n"
     ]
    }
   ],
   "source": [
    "spwd = []\n",
    "need = [\"not\",\"no\"]\n",
    "for w in stopwords.words('english'):\n",
    "    if w not in need:\n",
    "        spwd.append(w)\n",
    "\n",
    "print(len(spwd))"
   ]
  },
  {
   "cell_type": "code",
   "execution_count": 24,
   "metadata": {},
   "outputs": [],
   "source": [
    "corpus = []\n",
    "for row in feature:\n",
    "    review = str(sent_tokenize(row))\n",
    "    # review = re.sub('[^a-zA-Z0-9]', \" \", sent)\n",
    "    review = word_tokenize(review)\n",
    "    # print(review)\n",
    "    # print()\n",
    "    review = [w.lower() for w in review if w.isalpha()]\n",
    "    # print(review)\n",
    "    # print()\n",
    "    review = [ps.stem(w) for w in review if w not in stopwords.words('english')]\n",
    "    # print(review)\n",
    "    # print()\n",
    "    review = \" \".join(review)\n",
    "    corpus.append(review)\n",
    "    \n",
    "        "
   ]
  },
  {
   "cell_type": "markdown",
   "metadata": {},
   "source": [
    "#### Lemmatizatoin"
   ]
  },
  {
   "cell_type": "code",
   "execution_count": 25,
   "metadata": {},
   "outputs": [],
   "source": [
    "from nltk.stem import WordNetLemmatizer"
   ]
  },
  {
   "cell_type": "code",
   "execution_count": 26,
   "metadata": {},
   "outputs": [],
   "source": [
    "wnl = WordNetLemmatizer()"
   ]
  },
  {
   "cell_type": "code",
   "execution_count": null,
   "metadata": {},
   "outputs": [],
   "source": []
  },
  {
   "cell_type": "code",
   "execution_count": null,
   "metadata": {},
   "outputs": [],
   "source": []
  },
  {
   "cell_type": "markdown",
   "metadata": {},
   "source": [
    "### Bag of Words"
   ]
  },
  {
   "cell_type": "markdown",
   "metadata": {},
   "source": [
    "#### Sample Corpus with 3 records"
   ]
  },
  {
   "cell_type": "code",
   "execution_count": 27,
   "metadata": {},
   "outputs": [],
   "source": [
    "corpus1 = []\n",
    "for row in feature[0:3]:\n",
    "    review = str(sent_tokenize(row))\n",
    "    # review = re.sub('[^a-zA-Z0-9]', \" \", sent)\n",
    "    review = word_tokenize(review)\n",
    "    # print(review)\n",
    "    # print()\n",
    "    review = [w.lower() for w in review if w.isalpha()]\n",
    "    # print(review)\n",
    "    # print()\n",
    "    review = [ps.stem(w) for w in review if w not in stopwords.words('english')]\n",
    "    # print(review)\n",
    "    # print()\n",
    "    review = \" \".join(review)\n",
    "    corpus1.append(review)\n",
    "    "
   ]
  },
  {
   "cell_type": "code",
   "execution_count": 28,
   "metadata": {},
   "outputs": [
    {
     "name": "stdout",
     "output_type": "stream",
     "text": [
      "One of the other reviewers has mentioned that after watching just 1 Oz episode you'll be hooked. They are right, as this is exactly what happened with me.<br /><br />The first thing that struck me about Oz was its brutality and unflinching scenes of violence, which set in right from the word GO. Trust me, this is not a show for the faint hearted or timid. This show pulls no punches with regards to drugs, sex or violence. Its is hardcore, in the classic use of the word.<br /><br />It is called OZ as that is the nickname given to the Oswald Maximum Security State Penitentary. It focuses mainly on Emerald City, an experimental section of the prison where all the cells have glass fronts and face inwards, so privacy is not high on the agenda. Em City is home to many..Aryans, Muslims, gangstas, Latinos, Christians, Italians, Irish and more....so scuffles, death stares, dodgy dealings and shady agreements are never far away.<br /><br />I would say the main appeal of the show is due to the fact that it goes where other shows wouldn't dare. Forget pretty pictures painted for mainstream audiences, forget charm, forget romance...OZ doesn't mess around. The first episode I ever saw struck me as so nasty it was surreal, I couldn't say I was ready for it, but as I watched more, I developed a taste for Oz, and got accustomed to the high levels of graphic violence. Not just violence, but injustice (crooked guards who'll be sold out for a nickel, inmates who'll kill on order and get away with it, well mannered, middle class inmates being turned into prison bitches due to their lack of street skills or prison experience) Watching Oz, you may become comfortable with what is uncomfortable viewing....thats if you can get in touch with your darker side.\n",
      "one review mention watch oz episod hook right exactli happen br br first thing struck oz brutal unflinch scene violenc set right word go show faint heart timid show pull punch regard drug sex violenc hardcor classic use br br call oz nicknam given oswald maximum secur state penitentari focus mainli emerald citi experiment section prison cell glass front face inward privaci high agenda em citi home mani aryan muslim gangsta latino christian italian irish scuffl death stare dodgi deal shadi agreement never far br br would say main appeal show due fact goe show would dare forget pretti pictur paint mainstream audienc forget charm forget romanc oz mess around first episod ever saw struck nasti surreal could say readi watch develop tast oz got accustom high level graphic violenc violenc injustic crook guard sold nickel inmat kill order get away well manner middl class inmat turn prison bitch due lack street skill prison experi watch oz may becom comfort uncomfort view that get touch darker side\n"
     ]
    }
   ],
   "source": [
    "print(feature[0])\n",
    "print(corpus1[0])"
   ]
  },
  {
   "cell_type": "code",
   "execution_count": 48,
   "metadata": {},
   "outputs": [
    {
     "name": "stdout",
     "output_type": "stream",
     "text": [
      "<class 'list'>\n",
      "<class 'list'>\n"
     ]
    }
   ],
   "source": [
    "feature1 = corpus\n",
    "print(type(feature))\n",
    "print(type(feature1))"
   ]
  },
  {
   "cell_type": "code",
   "execution_count": 30,
   "metadata": {},
   "outputs": [
    {
     "name": "stdout",
     "output_type": "stream",
     "text": [
      "{'one': 142, 'review': 174, 'mention': 132, 'watch': 237, 'oz': 146, 'episod': 58, 'hook': 99, 'right': 175, 'exactli': 62, 'happen': 94, 'br': 15, 'first': 73, 'thing': 221, 'struck': 208, 'brutal': 17, 'unflinch': 231, 'scene': 181, 'violenc': 235, 'set': 189, 'word': 247, 'go': 85, 'show': 194, 'faint': 68, 'heart': 96, 'timid': 224, 'pull': 164, 'punch': 165, 'regard': 172, 'drug': 51, 'sex': 190, 'hardcor': 95, 'classic': 26, 'use': 233, 'call': 18, 'nicknam': 141, 'given': 83, 'oswald': 145, 'maximum': 130, 'secur': 185, 'state': 205, 'penitentari': 150, 'focus': 75, 'mainli': 123, 'emerald': 55, 'citi': 24, 'experiment': 64, 'section': 184, 'prison': 160, 'cell': 20, 'glass': 84, 'front': 78, 'face': 66, 'inward': 106, 'privaci': 161, 'high': 97, 'agenda': 3, 'em': 54, 'home': 98, 'mani': 126, 'aryan': 9, 'muslim': 137, 'gangsta': 80, 'latino': 116, 'christian': 23, 'italian': 108, 'irish': 107, 'scuffl': 182, 'death': 39, 'stare': 204, 'dodgi': 49, 'deal': 38, 'shadi': 192, 'agreement': 4, 'never': 139, 'far': 70, 'would': 249, 'say': 179, 'main': 122, 'appeal': 7, 'due': 52, 'fact': 67, 'goe': 86, 'dare': 36, 'forget': 76, 'pretti': 159, 'pictur': 152, 'paint': 147, 'mainstream': 124, 'audienc': 10, 'charm': 22, 'romanc': 177, 'mess': 133, 'around': 8, 'ever': 60, 'saw': 178, 'nasti': 138, 'surreal': 213, 'could': 33, 'readi': 167, 'develop': 42, 'tast': 215, 'got': 87, 'accustom': 0, 'level': 118, 'graphic': 88, 'injustic': 103, 'crook': 34, 'guard': 91, 'sold': 199, 'nickel': 140, 'inmat': 104, 'kill': 112, 'order': 143, 'get': 81, 'away': 12, 'well': 241, 'manner': 127, 'middl': 135, 'class': 25, 'turn': 229, 'bitch': 14, 'lack': 115, 'street': 207, 'skill': 198, 'experi': 63, 'may': 131, 'becom': 13, 'comfort': 29, 'uncomfort': 230, 'view': 234, 'that': 219, 'touch': 226, 'darker': 37, 'side': 195, 'wonder': 245, 'littl': 121, 'product': 162, 'film': 72, 'techniqu': 216, 'fashion': 71, 'give': 82, 'sometim': 201, 'discomfort': 48, 'sens': 187, 'realism': 168, 'entir': 56, 'piec': 153, 'actor': 1, 'extrem': 65, 'michael': 134, 'sheen': 193, 'polari': 157, 'voic': 236, 'pat': 149, 'truli': 228, 'see': 186, 'seamless': 183, 'edit': 53, 'guid': 92, 'refer': 171, 'william': 242, 'diari': 45, 'entri': 57, 'worth': 248, 'terrificli': 218, 'written': 250, 'perform': 151, 'master': 128, 'great': 89, 'comedi': 28, 'life': 119, 'realli': 170, 'come': 27, 'fantasi': 69, 'rather': 166, 'tradit': 227, 'remain': 173, 'solid': 200, 'disappear': 46, 'play': 154, 'knowledg': 114, 'particularli': 148, 'concern': 30, 'orton': 144, 'halliwel': 93, 'flat': 74, 'mural': 136, 'decor': 41, 'everi': 61, 'surfac': 212, 'terribl': 217, 'done': 50, 'thought': 222, 'way': 238, 'spend': 202, 'time': 223, 'hot': 100, 'summer': 210, 'weekend': 240, 'sit': 197, 'air': 5, 'condit': 31, 'theater': 220, 'plot': 155, 'simplist': 196, 'dialogu': 44, 'witti': 243, 'charact': 21, 'likabl': 120, 'even': 59, 'bread': 16, 'suspect': 214, 'serial': 188, 'killer': 113, 'disappoint': 47, 'realiz': 169, 'match': 129, 'point': 156, 'risk': 176, 'addict': 2, 'proof': 163, 'woodi': 246, 'allen': 6, 'still': 206, 'fulli': 79, 'control': 32, 'style': 209, 'us': 232, 'grown': 90, 'laugh': 117, 'year': 251, 'decad': 40, 'impress': 102, 'scarlet': 180, 'johanson': 110, 'manag': 125, 'tone': 225, 'sexi': 191, 'imag': 101, 'jump': 111, 'averag': 11, 'spirit': 203, 'young': 252, 'crown': 35, 'jewel': 109, 'career': 19, 'wittier': 244, 'devil': 43, 'wear': 239, 'prada': 158, 'interest': 105, 'superman': 211, 'friend': 77}\n"
     ]
    }
   ],
   "source": [
    "cv1 = CountVectorizer(binary = True)\n",
    "x1 = cv1.fit(corpus1)\n",
    "feature_name1 = cv1.get_feature_names_out()\n",
    "print(x1.vocabulary_)\n",
    "\n"
   ]
  },
  {
   "cell_type": "code",
   "execution_count": 31,
   "metadata": {},
   "outputs": [
    {
     "name": "stdout",
     "output_type": "stream",
     "text": [
      "[[1 0 0 1 1 0 0 1 1 1 1 0 1 1 1 1 0 1 1 0 1 0 1 1 1 1 1 0 0 1 0 0 0 1 1 0\n",
      "  1 1 1 1 0 0 1 0 0 0 0 0 0 1 0 1 1 0 1 1 0 0 1 0 1 0 1 1 1 0 1 1 1 0 1 0\n",
      "  0 1 0 1 1 0 1 0 1 1 0 1 1 1 1 1 1 0 0 1 0 0 1 1 1 1 1 1 0 0 0 1 1 0 1 1\n",
      "  1 0 0 0 1 0 0 1 1 0 1 0 0 0 1 1 1 0 1 1 0 0 1 1 1 1 0 1 0 1 1 1 1 1 1 1\n",
      "  0 1 1 1 0 0 1 0 1 0 0 0 0 0 0 1 1 1 0 0 1 1 0 1 0 0 0 0 1 0 1 1 0 1 1 1\n",
      "  0 1 1 0 1 1 0 0 0 1 1 0 1 0 1 1 0 0 1 1 0 0 0 0 1 1 0 1 1 0 0 0 0 1 0 1\n",
      "  0 0 0 1 0 1 0 0 1 0 1 0 0 1 1 1 0 1 1 1 0 1 0 0 0 1 0 0 0 0 0 1 0 1 0 0\n",
      "  0]\n",
      " [0 1 0 0 0 0 0 0 0 0 0 0 0 0 0 1 0 0 0 0 0 0 0 0 0 0 0 1 1 1 1 0 0 0 0 0\n",
      "  0 0 0 0 0 1 0 0 0 1 1 0 1 0 1 0 0 1 0 0 1 1 0 0 0 1 0 0 0 1 0 0 0 1 0 1\n",
      "  1 0 1 0 0 0 0 0 0 0 1 0 0 0 0 1 0 1 0 1 1 1 0 0 0 0 1 0 0 0 0 0 0 0 0 0\n",
      "  0 0 0 0 0 0 1 0 0 0 0 1 0 1 0 0 0 0 0 0 1 0 0 0 0 0 1 0 1 0 0 0 0 0 1 0\n",
      "  1 0 0 0 1 1 0 1 0 1 1 0 0 1 0 0 0 0 1 0 0 0 1 0 1 0 1 1 0 1 0 0 0 0 0 0\n",
      "  0 1 0 1 0 0 1 1 0 1 0 0 0 1 0 0 0 0 0 0 1 1 0 0 0 0 0 0 0 0 0 0 1 0 0 0\n",
      "  1 1 1 0 0 1 0 0 0 0 0 1 1 0 0 0 0 1 0 0 1 1 0 0 0 1 1 0 0 1 0 0 1 0 1 0\n",
      "  0]\n",
      " [0 0 1 0 0 1 1 0 0 0 0 1 0 0 0 1 1 0 0 1 0 1 0 0 0 0 0 0 1 0 0 1 1 0 0 1\n",
      "  1 0 0 0 1 0 0 1 1 0 0 1 0 0 0 0 0 0 0 0 0 0 0 1 0 0 0 0 0 0 0 0 0 0 0 0\n",
      "  0 0 0 0 0 1 0 1 0 0 0 0 0 1 0 0 0 1 1 0 0 0 0 0 0 0 0 0 1 1 1 0 0 1 0 0\n",
      "  0 1 1 1 0 1 0 0 0 1 0 0 1 0 0 0 0 1 1 0 0 1 0 1 0 0 0 0 0 0 0 1 0 0 1 0\n",
      "  0 0 0 0 0 0 0 0 0 0 0 1 1 0 1 0 0 0 0 1 0 0 0 0 0 1 0 0 0 0 0 1 1 0 0 1\n",
      "  1 0 0 0 0 0 1 0 1 0 0 1 0 0 0 0 1 1 0 0 0 0 1 1 0 0 1 0 0 1 1 1 0 0 1 0\n",
      "  0 0 0 0 1 0 1 1 0 1 0 0 0 0 0 0 1 0 0 0 0 1 1 1 1 1 0 1 1 1 1 0 0 0 0 1\n",
      "  1]]\n"
     ]
    }
   ],
   "source": [
    "voc = cv1.transform(corpus1)\n",
    "vect = voc.toarray()\n",
    "print(vect)"
   ]
  },
  {
   "cell_type": "markdown",
   "metadata": {},
   "source": [
    "####  Main corpus for total records"
   ]
  },
  {
   "cell_type": "code",
   "execution_count": 32,
   "metadata": {},
   "outputs": [],
   "source": [
    "cv = CountVectorizer(binary=True)\n",
    "cv.fit(corpus)\n",
    "vect = cv.transform(corpus)"
   ]
  },
  {
   "cell_type": "code",
   "execution_count": 33,
   "metadata": {},
   "outputs": [
    {
     "name": "stdout",
     "output_type": "stream",
     "text": [
      "The Length of Vocabulary is:  66135\n"
     ]
    }
   ],
   "source": [
    "print(\"The Length of Vocabulary is: \", len(cv.get_feature_names_out()))"
   ]
  },
  {
   "cell_type": "code",
   "execution_count": 34,
   "metadata": {},
   "outputs": [
    {
     "name": "stdout",
     "output_type": "stream",
     "text": [
      "The Shape of Vector is:  (50000, 66135)\n"
     ]
    }
   ],
   "source": [
    "print(\"The Shape of Vector is: \",vect.shape)"
   ]
  },
  {
   "cell_type": "code",
   "execution_count": 35,
   "metadata": {},
   "outputs": [
    {
     "data": {
      "text/plain": [
       "{'one': 41528,\n",
       " 'review': 48275,\n",
       " 'mention': 36918,\n",
       " 'watch': 63485,\n",
       " 'oz': 42353,\n",
       " 'episod': 18203,\n",
       " 'hook': 26681,\n",
       " 'right': 48527,\n",
       " 'exactli': 18744,\n",
       " 'happen': 25015,\n",
       " 'br': 6996,\n",
       " 'first': 20214,\n",
       " 'thing': 58175,\n",
       " 'struck': 55723,\n",
       " 'brutal': 7673,\n",
       " 'unflinch': 60998,\n",
       " 'scene': 50559,\n",
       " 'violenc': 62768,\n",
       " 'set': 51591,\n",
       " 'word': 64756,\n",
       " 'go': 23114,\n",
       " 'show': 52378,\n",
       " 'faint': 19175,\n",
       " 'heart': 25496,\n",
       " 'timid': 58570,\n",
       " 'pull': 46108,\n",
       " 'punch': 46142,\n",
       " 'regard': 47637,\n",
       " 'drug': 16544,\n",
       " 'sex': 51653,\n",
       " 'hardcor': 25056,\n",
       " 'classic': 10811,\n",
       " 'use': 61841,\n",
       " 'call': 8453,\n",
       " 'nicknam': 40179,\n",
       " 'given': 22911,\n",
       " 'oswald': 41921,\n",
       " 'maximum': 36123,\n",
       " 'secur': 51195,\n",
       " 'state': 55030,\n",
       " 'penitentari': 43409,\n",
       " 'focus': 20670,\n",
       " 'mainli': 35027,\n",
       " 'emerald': 17784,\n",
       " 'citi': 10704,\n",
       " 'experiment': 18906,\n",
       " 'section': 51190,\n",
       " 'prison': 45577,\n",
       " 'cell': 9450,\n",
       " 'glass': 22955,\n",
       " 'front': 21427,\n",
       " 'face': 19105,\n",
       " 'inward': 28733,\n",
       " 'privaci': 45587,\n",
       " 'high': 26083,\n",
       " 'agenda': 801,\n",
       " 'em': 17728,\n",
       " 'home': 26549,\n",
       " 'mani': 35381,\n",
       " 'aryan': 2975,\n",
       " 'muslim': 39125,\n",
       " 'gangsta': 21974,\n",
       " 'latino': 32601,\n",
       " 'christian': 10415,\n",
       " 'italian': 28970,\n",
       " 'irish': 28805,\n",
       " 'scuffl': 51040,\n",
       " 'death': 14011,\n",
       " 'stare': 54970,\n",
       " 'dodgi': 15848,\n",
       " 'deal': 13986,\n",
       " 'shadi': 51724,\n",
       " 'agreement': 870,\n",
       " 'never': 40019,\n",
       " 'far': 19361,\n",
       " 'would': 64853,\n",
       " 'say': 50422,\n",
       " 'main': 35021,\n",
       " 'appeal': 2464,\n",
       " 'due': 16668,\n",
       " 'fact': 19130,\n",
       " 'goe': 23194,\n",
       " 'dare': 13741,\n",
       " 'forget': 20873,\n",
       " 'pretti': 45478,\n",
       " 'pictur': 44065,\n",
       " 'paint': 42482,\n",
       " 'mainstream': 35037,\n",
       " 'audienc': 3379,\n",
       " 'charm': 9820,\n",
       " 'romanc': 48988,\n",
       " 'mess': 37063,\n",
       " 'around': 2853,\n",
       " 'ever': 18648,\n",
       " 'saw': 50399,\n",
       " 'nasti': 39573,\n",
       " 'surreal': 56471,\n",
       " 'could': 12432,\n",
       " 'readi': 47256,\n",
       " 'develop': 14890,\n",
       " 'tast': 57363,\n",
       " 'got': 23498,\n",
       " 'accustom': 325,\n",
       " 'level': 33199,\n",
       " 'graphic': 23699,\n",
       " 'injustic': 28289,\n",
       " 'crook': 12959,\n",
       " 'guard': 24170,\n",
       " 'sold': 53851,\n",
       " 'nickel': 40165,\n",
       " 'inmat': 28304,\n",
       " 'kill': 31073,\n",
       " 'order': 41738,\n",
       " 'get': 22542,\n",
       " 'away': 3634,\n",
       " 'well': 63758,\n",
       " 'manner': 35436,\n",
       " 'middl': 37289,\n",
       " 'class': 10809,\n",
       " 'turn': 60027,\n",
       " 'bitch': 5848,\n",
       " 'lack': 32140,\n",
       " 'street': 55598,\n",
       " 'skill': 53055,\n",
       " 'experi': 18902,\n",
       " 'may': 36128,\n",
       " 'becom': 4854,\n",
       " 'comfort': 11474,\n",
       " 'uncomfort': 60646,\n",
       " 'view': 62640,\n",
       " 'that': 57999,\n",
       " 'touch': 59118,\n",
       " 'darker': 13757,\n",
       " 'side': 52589,\n",
       " 'wonder': 64649,\n",
       " 'littl': 33680,\n",
       " 'product': 45661,\n",
       " 'film': 20026,\n",
       " 'techniqu': 57546,\n",
       " 'fashion': 19473,\n",
       " 'give': 22909,\n",
       " 'sometim': 53941,\n",
       " 'discomfort': 15441,\n",
       " 'sens': 51411,\n",
       " 'realism': 47276,\n",
       " 'entir': 18107,\n",
       " 'piec': 44077,\n",
       " 'actor': 429,\n",
       " 'extrem': 19021,\n",
       " 'michael': 37218,\n",
       " 'sheen': 51975,\n",
       " 'polari': 44714,\n",
       " 'voic': 62956,\n",
       " 'pat': 43009,\n",
       " 'truli': 59801,\n",
       " 'see': 51215,\n",
       " 'seamless': 51101,\n",
       " 'edit': 17254,\n",
       " 'guid': 24238,\n",
       " 'refer': 47590,\n",
       " 'william': 64292,\n",
       " 'diari': 15051,\n",
       " 'entri': 18131,\n",
       " 'worth': 64836,\n",
       " 'terrificli': 57852,\n",
       " 'written': 64930,\n",
       " 'perform': 43531,\n",
       " 'master': 35917,\n",
       " 'great': 23782,\n",
       " 'comedi': 11457,\n",
       " 'life': 33346,\n",
       " 'realli': 47284,\n",
       " 'come': 11453,\n",
       " 'fantasi': 19335,\n",
       " 'rather': 47114,\n",
       " 'tradit': 59246,\n",
       " 'remain': 47819,\n",
       " 'solid': 53870,\n",
       " 'disappear': 15396,\n",
       " 'play': 44452,\n",
       " 'knowledg': 31469,\n",
       " 'particularli': 42919,\n",
       " 'concern': 11681,\n",
       " 'orton': 41857,\n",
       " 'halliwel': 24793,\n",
       " 'flat': 20371,\n",
       " 'mural': 39043,\n",
       " 'decor': 14144,\n",
       " 'everi': 18658,\n",
       " 'surfac': 56432,\n",
       " 'terribl': 57847,\n",
       " 'done': 16002,\n",
       " 'thought': 58276,\n",
       " 'way': 63569,\n",
       " 'spend': 54413,\n",
       " 'time': 58537,\n",
       " 'hot': 26859,\n",
       " 'summer': 56150,\n",
       " 'weekend': 63669,\n",
       " 'sit': 52934,\n",
       " 'air': 975,\n",
       " 'condit': 11731,\n",
       " 'theater': 58022,\n",
       " 'plot': 44545,\n",
       " 'simplist': 52793,\n",
       " 'dialogu': 15024,\n",
       " 'witti': 64549,\n",
       " 'charact': 9757,\n",
       " 'likabl': 33409,\n",
       " 'even': 18635,\n",
       " 'bread': 7177,\n",
       " 'suspect': 56516,\n",
       " 'serial': 51534,\n",
       " 'killer': 31081,\n",
       " 'disappoint': 15397,\n",
       " 'realiz': 47282,\n",
       " 'match': 35962,\n",
       " 'point': 44668,\n",
       " 'risk': 48642,\n",
       " 'addict': 484,\n",
       " 'proof': 45760,\n",
       " 'woodi': 64689,\n",
       " 'allen': 1348,\n",
       " 'still': 55307,\n",
       " 'fulli': 21554,\n",
       " 'control': 12051,\n",
       " 'style': 55837,\n",
       " 'us': 61825,\n",
       " 'grown': 24075,\n",
       " 'laugh': 32638,\n",
       " 'year': 65281,\n",
       " 'decad': 14077,\n",
       " 'impress': 27831,\n",
       " 'scarlet': 50514,\n",
       " 'johanson': 29779,\n",
       " 'manag': 35286,\n",
       " 'tone': 58907,\n",
       " 'sexi': 51658,\n",
       " 'imag': 27668,\n",
       " 'jump': 30051,\n",
       " 'averag': 3569,\n",
       " 'spirit': 54513,\n",
       " 'young': 65482,\n",
       " 'crown': 13013,\n",
       " 'jewel': 29599,\n",
       " 'career': 8868,\n",
       " 'wittier': 64551,\n",
       " 'devil': 14910,\n",
       " 'wear': 63616,\n",
       " 'prada': 45208,\n",
       " 'interest': 28523,\n",
       " 'superman': 56309,\n",
       " 'friend': 21341,\n",
       " 'basic': 4511,\n",
       " 'famili': 19271,\n",
       " 'boy': 6963,\n",
       " 'jake': 29195,\n",
       " 'think': 58180,\n",
       " 'zombi': 65971,\n",
       " 'closet': 11025,\n",
       " 'parent': 42819,\n",
       " 'fight': 19984,\n",
       " 'movi': 38723,\n",
       " 'slower': 53358,\n",
       " 'soap': 53709,\n",
       " 'opera': 41646,\n",
       " 'suddenli': 56025,\n",
       " 'decid': 14112,\n",
       " 'rambo': 46918,\n",
       " 'ok': 41367,\n",
       " 'make': 35083,\n",
       " 'must': 39140,\n",
       " 'thriller': 58314,\n",
       " 'drama': 16353,\n",
       " 'watchabl': 63487,\n",
       " 'divorc': 15724,\n",
       " 'argu': 2713,\n",
       " 'like': 33410,\n",
       " 'real': 47269,\n",
       " 'total': 59094,\n",
       " 'ruin': 49426,\n",
       " 'expect': 18886,\n",
       " 'boogeyman': 6644,\n",
       " 'similar': 52756,\n",
       " 'instead': 28426,\n",
       " 'meaningless': 36541,\n",
       " 'descent': 14727,\n",
       " 'dialog': 15023,\n",
       " 'shot': 52359,\n",
       " 'ignor': 27564,\n",
       " 'love': 34164,\n",
       " 'money': 38195,\n",
       " 'visual': 62857,\n",
       " 'stun': 55789,\n",
       " 'mattei': 36039,\n",
       " 'offer': 41277,\n",
       " 'vivid': 62905,\n",
       " 'portrait': 45010,\n",
       " 'human': 27108,\n",
       " 'relat': 47771,\n",
       " 'seem': 51231,\n",
       " 'tell': 57668,\n",
       " 'power': 45167,\n",
       " 'success': 55984,\n",
       " 'peopl': 43454,\n",
       " 'differ': 15159,\n",
       " 'situat': 52949,\n",
       " 'encount': 17908,\n",
       " 'variat': 62157,\n",
       " 'arthur': 2927,\n",
       " 'schnitzler': 50717,\n",
       " 'theme': 58059,\n",
       " 'director': 15364,\n",
       " 'transfer': 59321,\n",
       " 'action': 417,\n",
       " 'present': 45423,\n",
       " 'new': 40035,\n",
       " 'york': 65444,\n",
       " 'meet': 36660,\n",
       " 'connect': 11845,\n",
       " 'anoth': 2157,\n",
       " 'next': 40106,\n",
       " 'person': 43625,\n",
       " 'know': 31464,\n",
       " 'previou': 45496,\n",
       " 'contact': 11963,\n",
       " 'sophist': 54049,\n",
       " 'luxuri': 34499,\n",
       " 'look': 33985,\n",
       " 'taken': 57085,\n",
       " 'live': 33695,\n",
       " 'world': 64799,\n",
       " 'soul': 54138,\n",
       " 'stage': 54840,\n",
       " 'loneli': 33930,\n",
       " 'inhabit': 28264,\n",
       " 'big': 5611,\n",
       " 'best': 5399,\n",
       " 'place': 44354,\n",
       " 'find': 20103,\n",
       " 'sincer': 52815,\n",
       " 'fulfil': 21546,\n",
       " 'discern': 15423,\n",
       " 'case': 9098,\n",
       " 'act': 409,\n",
       " 'good': 23351,\n",
       " 'direct': 15359,\n",
       " 'buscemi': 8090,\n",
       " 'rosario': 49108,\n",
       " 'dawson': 13911,\n",
       " 'carol': 8975,\n",
       " 'kane': 30349,\n",
       " 'imperioli': 27779,\n",
       " 'adrian': 605,\n",
       " 'grenier': 23868,\n",
       " 'rest': 48146,\n",
       " 'talent': 57118,\n",
       " 'cast': 9151,\n",
       " 'wish': 64487,\n",
       " 'luck': 34296,\n",
       " 'await': 3623,\n",
       " 'anxious': 2320,\n",
       " 'work': 64770,\n",
       " 'probabl': 45615,\n",
       " 'favorit': 19564,\n",
       " 'stori': 55459,\n",
       " 'selfless': 51316,\n",
       " 'sacrific': 49707,\n",
       " 'dedic': 14161,\n",
       " 'nobl': 40445,\n",
       " 'caus': 9313,\n",
       " 'preachi': 45256,\n",
       " 'bore': 6747,\n",
       " 'old': 41418,\n",
       " 'despit': 14796,\n",
       " 'seen': 51238,\n",
       " 'last': 32562,\n",
       " 'paul': 43103,\n",
       " 'luka': 34357,\n",
       " 'bring': 7405,\n",
       " 'tear': 57519,\n",
       " 'eye': 19043,\n",
       " 'bett': 5433,\n",
       " 'davi': 13881,\n",
       " 'sympathet': 56828,\n",
       " 'role': 48952,\n",
       " 'delight': 14391,\n",
       " 'kid': 31001,\n",
       " 'grandma': 23667,\n",
       " 'midget': 37305,\n",
       " 'children': 10184,\n",
       " 'fun': 21573,\n",
       " 'mother': 38623,\n",
       " 'slow': 53355,\n",
       " 'awaken': 3625,\n",
       " 'roof': 49047,\n",
       " 'believ': 5062,\n",
       " 'startl': 55016,\n",
       " 'dozen': 16297,\n",
       " 'thumb': 58369,\n",
       " 'sure': 56423,\n",
       " 'resurrect': 48170,\n",
       " 'date': 13840,\n",
       " 'seahunt': 51091,\n",
       " 'seri': 51532,\n",
       " 'tech': 57535,\n",
       " 'today': 58763,\n",
       " 'back': 3832,\n",
       " 'excit': 18780,\n",
       " 'grew': 23886,\n",
       " 'black': 5911,\n",
       " 'white': 64045,\n",
       " 'tv': 60097,\n",
       " 'gunsmok': 24385,\n",
       " 'hero': 25905,\n",
       " 'vote': 63052,\n",
       " 'comeback': 11454,\n",
       " 'sea': 51070,\n",
       " 'need': 39801,\n",
       " 'chang': 9709,\n",
       " 'pace': 42389,\n",
       " 'water': 63501,\n",
       " 'thank': 57989,\n",
       " 'outlet': 42040,\n",
       " 'viewpoint': 62645,\n",
       " 'ole': 41434,\n",
       " 'wan': 63339,\n",
       " 'na': 39294,\n",
       " 'nice': 40147,\n",
       " 'read': 47251,\n",
       " 'plu': 44564,\n",
       " 'rhyme': 48381,\n",
       " 'line': 33519,\n",
       " 'let': 33155,\n",
       " 'submit': 55905,\n",
       " 'leav': 32831,\n",
       " 'doubt': 16209,\n",
       " 'quit': 46598,\n",
       " 'amaz': 1615,\n",
       " 'fresh': 21290,\n",
       " 'innov': 28334,\n",
       " 'idea': 27484,\n",
       " 'brilliant': 7391,\n",
       " 'drop': 16520,\n",
       " 'funni': 21610,\n",
       " 'anymor': 2329,\n",
       " 'continu': 12005,\n",
       " 'declin': 14130,\n",
       " 'complet': 11593,\n",
       " 'wast': 63471,\n",
       " 'disgrac': 15499,\n",
       " 'fallen': 19235,\n",
       " 'write': 64922,\n",
       " 'pain': 42475,\n",
       " 'bad': 3891,\n",
       " 'almost': 1436,\n",
       " 'mildli': 37426,\n",
       " 'entertain': 18089,\n",
       " 'respit': 48133,\n",
       " 'hard': 25048,\n",
       " 'creator': 12757,\n",
       " 'origin': 41790,\n",
       " 'also': 1489,\n",
       " 'chose': 10374,\n",
       " 'band': 4185,\n",
       " 'hack': 24580,\n",
       " 'follow': 20721,\n",
       " 'recogn': 47417,\n",
       " 'brillianc': 7390,\n",
       " 'fit': 20255,\n",
       " 'replac': 47989,\n",
       " 'mediocr': 36618,\n",
       " 'felt': 19732,\n",
       " 'star': 54951,\n",
       " 'respect': 48129,\n",
       " 'made': 34806,\n",
       " 'huge': 27062,\n",
       " 'aw': 3618,\n",
       " 'ca': 8261,\n",
       " 'posit': 45042,\n",
       " 'comment': 11499,\n",
       " 'forward': 20953,\n",
       " 'mistak': 37864,\n",
       " 'worst': 64834,\n",
       " 'storylin': 55478,\n",
       " 'soundtrack': 54169,\n",
       " 'song': 53981,\n",
       " 'lame': 32302,\n",
       " 'countri': 12487,\n",
       " 'tune': 59958,\n",
       " 'less': 33144,\n",
       " 'four': 20993,\n",
       " 'cheap': 9913,\n",
       " 'happi': 25019,\n",
       " 'end': 17923,\n",
       " 'credit': 12766,\n",
       " 'prevent': 45491,\n",
       " 'harvey': 25210,\n",
       " 'keitel': 30738,\n",
       " 'least': 32815,\n",
       " 'bit': 5847,\n",
       " 'effort': 17347,\n",
       " 'obsess': 41108,\n",
       " 'gut': 24432,\n",
       " 'wrench': 64896,\n",
       " 'laughter': 32647,\n",
       " 'hell': 25694,\n",
       " 'mom': 38147,\n",
       " 'camp': 8573,\n",
       " 'alien': 1295,\n",
       " 'quirki': 46589,\n",
       " 'humour': 27143,\n",
       " 'base': 4487,\n",
       " 'odd': 41210,\n",
       " 'everyth': 18680,\n",
       " 'actual': 435,\n",
       " 'progress': 45704,\n",
       " 'joke': 29808,\n",
       " 'low': 34196,\n",
       " 'budget': 7787,\n",
       " 'problem': 45629,\n",
       " 'eventu': 18645,\n",
       " 'lost': 34083,\n",
       " 'imagin': 27671,\n",
       " 'stoner': 55416,\n",
       " 'current': 13270,\n",
       " 'someth': 53935,\n",
       " 'better': 5436,\n",
       " 'tri': 59545,\n",
       " 'brother': 7581,\n",
       " 'planet': 44393,\n",
       " 'came': 8528,\n",
       " 'recal': 47371,\n",
       " 'scariest': 50508,\n",
       " 'bird': 5782,\n",
       " 'eat': 17117,\n",
       " 'men': 36838,\n",
       " 'dangl': 13668,\n",
       " 'helplessli': 25741,\n",
       " 'parachut': 42738,\n",
       " 'horror': 26799,\n",
       " 'cheesi': 9978,\n",
       " 'saturday': 50326,\n",
       " 'afternoon': 771,\n",
       " 'tire': 58641,\n",
       " 'formula': 20903,\n",
       " 'monster': 38282,\n",
       " 'type': 60210,\n",
       " 'usual': 61865,\n",
       " 'includ': 27952,\n",
       " 'beauti': 4806,\n",
       " 'woman': 64639,\n",
       " 'might': 37352,\n",
       " 'daughter': 13857,\n",
       " 'professor': 45676,\n",
       " 'resolut': 48119,\n",
       " 'die': 15128,\n",
       " 'care': 8864,\n",
       " 'much': 38822,\n",
       " 'romant': 48999,\n",
       " 'angl': 2010,\n",
       " 'predict': 45306,\n",
       " 'unintent': 61155,\n",
       " 'later': 32581,\n",
       " 'psycho': 45979,\n",
       " 'janet': 29253,\n",
       " 'leigh': 32970,\n",
       " 'bump': 7925,\n",
       " 'earli': 17055,\n",
       " 'sat': 50276,\n",
       " 'took': 58936,\n",
       " 'notic': 40732,\n",
       " 'screenwrit': 50972,\n",
       " 'scari': 50506,\n",
       " 'possibl': 45056,\n",
       " 'rule': 49439,\n",
       " 'im': 27665,\n",
       " 'fan': 19286,\n",
       " 'boll': 6505,\n",
       " 'enjoy': 18012,\n",
       " 'postal': 45059,\n",
       " 'mayb': 36135,\n",
       " 'appar': 2451,\n",
       " 'bought': 6872,\n",
       " 'cri': 12819,\n",
       " 'long': 33939,\n",
       " 'ago': 849,\n",
       " 'game': 21917,\n",
       " 'finsish': 20157,\n",
       " 'merc': 36940,\n",
       " 'infiltr': 28194,\n",
       " 'secret': 51180,\n",
       " 'research': 48070,\n",
       " 'lab': 32095,\n",
       " 'locat': 33804,\n",
       " 'tropic': 59730,\n",
       " 'island': 28922,\n",
       " 'warn': 63410,\n",
       " 'mr': 38783,\n",
       " 'scheme': 50613,\n",
       " 'togeth': 58788,\n",
       " 'along': 1448,\n",
       " 'legion': 32931,\n",
       " 'schmuck': 50704,\n",
       " 'loneley': 33929,\n",
       " 'invit': 28722,\n",
       " 'three': 58298,\n",
       " 'countrymen': 12491,\n",
       " 'player': 44459,\n",
       " 'name': 39442,\n",
       " 'til': 58506,\n",
       " 'schweiger': 50827,\n",
       " 'udo': 60304,\n",
       " 'kier': 31031,\n",
       " 'ralf': 46898,\n",
       " 'self': 51311,\n",
       " 'biz': 5875,\n",
       " 'tale': 57116,\n",
       " 'jack': 29094,\n",
       " 'carver': 9080,\n",
       " 'ye': 65275,\n",
       " 'german': 22493,\n",
       " 'hail': 24687,\n",
       " 'bratwurst': 7135,\n",
       " 'dude': 16656,\n",
       " 'howev': 26957,\n",
       " 'badass': 3896,\n",
       " 'complain': 11587,\n",
       " 'stay': 55071,\n",
       " 'true': 59782,\n",
       " 'whole': 64104,\n",
       " 'perspect': 43639,\n",
       " 'kick': 30991,\n",
       " 'beyond': 5482,\n",
       " 'dement': 14462,\n",
       " 'evil': 18698,\n",
       " 'mad': 34778,\n",
       " 'scientist': 50850,\n",
       " 'krieger': 31799,\n",
       " 'gm': 23096,\n",
       " 'remind': 47852,\n",
       " 'spoiler': 54570,\n",
       " 'vancouv': 62084,\n",
       " 'reason': 47314,\n",
       " 'palm': 42558,\n",
       " 'tree': 59475,\n",
       " 'rich': 48415,\n",
       " 'gone': 23330,\n",
       " 'start': 55013,\n",
       " 'meheh': 36705,\n",
       " 'shenanigan': 52036,\n",
       " 'deliv': 14401,\n",
       " 'mean': 36530,\n",
       " 'impli': 27800,\n",
       " 'area': 2682,\n",
       " 'boat': 6331,\n",
       " 'squad': 54722,\n",
       " 'enter': 18080,\n",
       " 'reek': 47573,\n",
       " 'scheiss': 50605,\n",
       " 'poop': 44886,\n",
       " 'simpleton': 52786,\n",
       " 'fa': 19076,\n",
       " 'take': 57077,\n",
       " 'wiff': 64210,\n",
       " 'ahead': 905,\n",
       " 'btw': 7717,\n",
       " 'annoy': 2137,\n",
       " 'sidekick': 52594,\n",
       " 'shoot': 52317,\n",
       " 'minut': 37668,\n",
       " 'screen': 50964,\n",
       " 'shakespear': 51769,\n",
       " 'appreci': 2517,\n",
       " 'mass': 35885,\n",
       " 'scottish': 50913,\n",
       " 'certain': 9549,\n",
       " 'rev': 48243,\n",
       " 'bowdler': 6931,\n",
       " 'henc': 25777,\n",
       " 'victorian': 62571,\n",
       " 'improv': 27847,\n",
       " 'ten': 57720,\n",
       " 'text': 57942,\n",
       " 'english': 17987,\n",
       " 'composit': 11621,\n",
       " 'fort': 20925,\n",
       " 'keep': 30704,\n",
       " 'cut': 13323,\n",
       " 'fantast': 19341,\n",
       " 'famou': 19284,\n",
       " 'georg': 22447,\n",
       " 'clooney': 11018,\n",
       " 'roll': 48958,\n",
       " 'man': 35284,\n",
       " 'constant': 11931,\n",
       " 'sorrow': 54104,\n",
       " 'recommand': 47430,\n",
       " 'everybodi': 18674,\n",
       " 'bart': 4456,\n",
       " 'kind': 31132,\n",
       " 'drawn': 16388,\n",
       " 'erot': 18314,\n",
       " 'amateurish': 1603,\n",
       " 'unbeliev': 60558,\n",
       " 'school': 50737,\n",
       " 'project': 45711,\n",
       " 'rosanna': 49105,\n",
       " 'arquett': 2857,\n",
       " 'stock': 55369,\n",
       " 'bizarr': 5877,\n",
       " 'suppos': 56385,\n",
       " 'midwest': 37335,\n",
       " 'town': 59169,\n",
       " 'involv': 28730,\n",
       " 'lesson': 33148,\n",
       " 'learn': 32807,\n",
       " 'insight': 28390,\n",
       " 'stilt': 55315,\n",
       " 'ridicul': 48476,\n",
       " 'lot': 34085,\n",
       " 'skin': 53065,\n",
       " 'intrigu': 28654,\n",
       " 'videotap': 62599,\n",
       " 'nonsens': 40577,\n",
       " 'bisexu': 5827,\n",
       " 'relationship': 47772,\n",
       " 'nowher': 40790,\n",
       " 'heterosexu': 25978,\n",
       " 'absurd': 230,\n",
       " 'danc': 13634,\n",
       " 'stereotyp': 55229,\n",
       " 'pass': 42964,\n",
       " 'million': 37499,\n",
       " 'mile': 37429,\n",
       " 'spent': 54419,\n",
       " 'starv': 55019,\n",
       " 'aid': 939,\n",
       " 'africa': 750,\n",
       " 'simpli': 52788,\n",
       " 'remad': 47817,\n",
       " 'fail': 19169,\n",
       " 'captur': 8796,\n",
       " 'flavor': 20398,\n",
       " 'terror': 57861,\n",
       " 'titl': 58679,\n",
       " 'neeson': 39814,\n",
       " 'excel': 18768,\n",
       " 'alway': 1554,\n",
       " 'hold': 26449,\n",
       " 'except': 18771,\n",
       " 'owen': 42322,\n",
       " 'wilson': 64324,\n",
       " 'feel': 19655,\n",
       " 'luke': 34359,\n",
       " 'major': 35070,\n",
       " 'fault': 19541,\n",
       " 'version': 62452,\n",
       " 'stray': 55587,\n",
       " 'shirley': 52211,\n",
       " 'jackson': 29117,\n",
       " 'attempt': 3319,\n",
       " 'grandios': 23664,\n",
       " 'thrill': 58313,\n",
       " 'earlier': 17056,\n",
       " 'trade': 59240,\n",
       " 'snazzier': 53584,\n",
       " 'special': 54345,\n",
       " 'effect': 17332,\n",
       " 'friction': 21324,\n",
       " 'older': 41421,\n",
       " 'top': 58968,\n",
       " 'chanc': 9686,\n",
       " 'busi': 8109,\n",
       " 'run': 49469,\n",
       " 'sword': 56761,\n",
       " 'emot': 17835,\n",
       " 'attach': 3311,\n",
       " 'machin': 34698,\n",
       " 'want': 63362,\n",
       " 'destroy': 14822,\n",
       " 'blatantli': 6044,\n",
       " 'stolen': 55398,\n",
       " 'lotr': 34094,\n",
       " 'war': 63368,\n",
       " 'matrix': 36027,\n",
       " 'exampl': 18755,\n",
       " 'ghost': 22608,\n",
       " 'final': 20092,\n",
       " 'yoda': 65391,\n",
       " 'obe': 41046,\n",
       " 'vader': 61945,\n",
       " 'spider': 54449,\n",
       " 'begin': 4965,\n",
       " 'frodo': 21407,\n",
       " 'attack': 3313,\n",
       " 'return': 48229,\n",
       " 'king': 31158,\n",
       " 'elijah': 17609,\n",
       " 'wood': 64672,\n",
       " 'victim': 62562,\n",
       " 'wait': 63236,\n",
       " 'hypnot': 27352,\n",
       " 'sting': 55323,\n",
       " 'wrap': 64882,\n",
       " 'uh': 60343,\n",
       " 'hello': 25719,\n",
       " 'termin': 57825,\n",
       " 'someon': 53928,\n",
       " 'nazi': 39703,\n",
       " 'juvenil': 30128,\n",
       " 'rush': 49505,\n",
       " 'conclus': 11702,\n",
       " 'adult': 620,\n",
       " 'either': 17480,\n",
       " 'rememb': 47841,\n",
       " 'cinema': 10606,\n",
       " 'dark': 13754,\n",
       " 'nervou': 39947,\n",
       " 'dad': 13470,\n",
       " 'sister': 52926,\n",
       " 'newburi': 40043,\n",
       " 'berkshir': 5300,\n",
       " 'england': 17983,\n",
       " 'tiger': 58484,\n",
       " 'snow': 53665,\n",
       " 'appear': 2466,\n",
       " 'grizzli': 23988,\n",
       " 'adam': 466,\n",
       " 'dan': 13629,\n",
       " 'haggeri': 24652,\n",
       " 'anyon': 2330,\n",
       " 'dvd': 16927,\n",
       " 'etc': 18509,\n",
       " 'pleas': 44488,\n",
       " 'club': 11060,\n",
       " 'shame': 51815,\n",
       " 'nearest': 39739,\n",
       " 'hear': 25485,\n",
       " 'other': 41935,\n",
       " 'stinker': 55332,\n",
       " 'nomin': 40520,\n",
       " 'golden': 23248,\n",
       " 'globe': 23040,\n",
       " 'femal': 19735,\n",
       " 'renaiss': 47884,\n",
       " 'painter': 42485,\n",
       " 'mangl': 35365,\n",
       " 'recognit': 47419,\n",
       " 'complaint': 11588,\n",
       " 'liberti': 33284,\n",
       " 'perfectli': 43520,\n",
       " 'fine': 20108,\n",
       " 'account': 307,\n",
       " 'artist': 2947,\n",
       " 'script': 50998,\n",
       " 'enough': 18035,\n",
       " 'nake': 39423,\n",
       " 'factual': 19140,\n",
       " 'hurriedli': 27222,\n",
       " 'cap': 8730,\n",
       " 'summari': 56146,\n",
       " 'save': 50379,\n",
       " 'coupl': 12497,\n",
       " 'hour': 26905,\n",
       " 'favor': 19562,\n",
       " 'breviti': 7302,\n",
       " 'sequel': 51483,\n",
       " 'surpris': 56467,\n",
       " 'glut': 23084,\n",
       " 'cash': 9107,\n",
       " 'wrong': 64933,\n",
       " 'guy': 24454,\n",
       " 'concept': 11674,\n",
       " 'cliffhang': 10946,\n",
       " 'mountain': 38683,\n",
       " 'rescu': 48067,\n",
       " 'sli': 53255,\n",
       " 'stallon': 54891,\n",
       " 'dream': 16400,\n",
       " 'especi': 18415,\n",
       " 'expert': 18908,\n",
       " 'climb': 10958,\n",
       " 'aviat': 3584,\n",
       " 'facial': 19119,\n",
       " 'express': 18955,\n",
       " 'full': 21548,\n",
       " 'excus': 18814,\n",
       " 'dismiss': 15550,\n",
       " 'overblown': 42133,\n",
       " 'pile': 44136,\n",
       " 'junk': 30074,\n",
       " 'hors': 26809,\n",
       " 'lovabl': 34163,\n",
       " 'undeni': 60736,\n",
       " 'romp': 49026,\n",
       " 'plenti': 44512,\n",
       " 'john': 29784,\n",
       " 'lithgow': 33655,\n",
       " 'sneeri': 53597,\n",
       " 'tick': 58446,\n",
       " 'box': 6952,\n",
       " 'baddi': 3906,\n",
       " 'perman': 43572,\n",
       " 'harass': 25038,\n",
       " 'hapless': 25012,\n",
       " 'agent': 802,\n",
       " 'rex': 48315,\n",
       " 'linn': 33552,\n",
       " 'henri': 25812,\n",
       " 'rooker': 49053,\n",
       " 'noteworthi': 40724,\n",
       " 'hal': 24733,\n",
       " 'insist': 28399,\n",
       " 'constantli': 11935,\n",
       " 'shriek': 52430,\n",
       " 'disbelief': 15418,\n",
       " 'captor': 8795,\n",
       " 'hurt': 27227,\n",
       " 'anybodi': 2322,\n",
       " 'whilst': 63996,\n",
       " 'ralph': 46901,\n",
       " 'frank': 21110,\n",
       " 'grin': 23945,\n",
       " 'girl': 22853,\n",
       " 'plummet': 44576,\n",
       " 'former': 20896,\n",
       " 'burn': 8044,\n",
       " 'craig': 12655,\n",
       " 'fairbrass': 19181,\n",
       " 'brit': 7432,\n",
       " 'cropper': 12966,\n",
       " 'footbal': 20768,\n",
       " 'help': 25738,\n",
       " 'judgement': 29986,\n",
       " 'lower': 34205,\n",
       " 'volum': 63003,\n",
       " 'qaulen': 46370,\n",
       " 'helicopt': 25689,\n",
       " 'misfortun': 37772,\n",
       " 'aspect': 3092,\n",
       " 'sequenc': 51486,\n",
       " 'fake': 19205,\n",
       " 'pack': 42408,\n",
       " 'crappi': 12690,\n",
       " 'amus': 1801,\n",
       " 'gear': 22265,\n",
       " 'toward': 59165,\n",
       " 'women': 64646,\n",
       " 'utterli': 61898,\n",
       " 'unattract': 60530,\n",
       " 'wrinkl': 64915,\n",
       " 'weird': 63726,\n",
       " 'horribl': 26787,\n",
       " 'costum': 12396,\n",
       " 'miser': 37761,\n",
       " 'absolut': 212,\n",
       " 'hr': 26981,\n",
       " 'wo': 64583,\n",
       " 'regret': 47666,\n",
       " 'rajnikanth': 46878,\n",
       " 'carri': 9016,\n",
       " 'shoulder': 52367,\n",
       " 'although': 1517,\n",
       " 'anyth': 2333,\n",
       " 'music': 39114,\n",
       " 'grow': 24070,\n",
       " 'heard': 25487,\n",
       " 'straight': 55519,\n",
       " 'anim': 2048,\n",
       " 'matter': 36042,\n",
       " 'speed': 54382,\n",
       " 'racer': 46673,\n",
       " 'preschool': 45413,\n",
       " 'sever': 51628,\n",
       " 'hilari': 26132,\n",
       " 'godzilla': 23192,\n",
       " 'move': 38715,\n",
       " 'fx': 21701,\n",
       " 'boom': 6671,\n",
       " 'wwwaaaaayyyyy': 65011,\n",
       " 'wors': 64828,\n",
       " 'crissak': 12883,\n",
       " 'vividli': 62906,\n",
       " 'bunch': 7937,\n",
       " 'dinosaur': 15316,\n",
       " 'addit': 488,\n",
       " 'transit': 59338,\n",
       " 'unorgan': 61311,\n",
       " 'dub': 16604,\n",
       " 'horrid': 26788,\n",
       " 'beg': 4954,\n",
       " 'tape': 57278,\n",
       " 'vh': 62510,\n",
       " 'kept': 30824,\n",
       " 'surviv': 56489,\n",
       " 'crack': 12622,\n",
       " 'robot': 48797,\n",
       " 'pick': 44040,\n",
       " 'season': 51129,\n",
       " ...}"
      ]
     },
     "execution_count": 35,
     "metadata": {},
     "output_type": "execute_result"
    }
   ],
   "source": [
    "cv.vocabulary_"
   ]
  },
  {
   "cell_type": "markdown",
   "metadata": {},
   "source": [
    "### Word2Vec"
   ]
  },
  {
   "cell_type": "code",
   "execution_count": 36,
   "metadata": {},
   "outputs": [],
   "source": [
    "from gensim.models import Word2Vec"
   ]
  },
  {
   "cell_type": "code",
   "execution_count": 37,
   "metadata": {},
   "outputs": [
    {
     "name": "stdout",
     "output_type": "stream",
     "text": [
      "['one', 'review', 'mention', 'watch', 'oz', 'episod', 'hook', 'right', 'exactli', 'happen', 'br', 'br', 'first', 'thing', 'struck', 'oz', 'brutal', 'unflinch', 'scene', 'violenc', 'set', 'right', 'word', 'go', 'show', 'faint', 'heart', 'timid', 'show', 'pull', 'punch', 'regard', 'drug', 'sex', 'violenc', 'hardcor', 'classic', 'use', 'br', 'br', 'call', 'oz', 'nicknam', 'given', 'oswald', 'maximum', 'secur', 'state', 'penitentari', 'focus', 'mainli', 'emerald', 'citi', 'experiment', 'section', 'prison', 'cell', 'glass', 'front', 'face', 'inward', 'privaci', 'high', 'agenda', 'em', 'citi', 'home', 'mani', 'aryan', 'muslim', 'gangsta', 'latino', 'christian', 'italian', 'irish', 'scuffl', 'death', 'stare', 'dodgi', 'deal', 'shadi', 'agreement', 'never', 'far', 'br', 'br', 'would', 'say', 'main', 'appeal', 'show', 'due', 'fact', 'goe', 'show', 'would', 'dare', 'forget', 'pretti', 'pictur', 'paint', 'mainstream', 'audienc', 'forget', 'charm', 'forget', 'romanc', 'oz', 'mess', 'around', 'first', 'episod', 'ever', 'saw', 'struck', 'nasti', 'surreal', 'could', 'say', 'readi', 'watch', 'develop', 'tast', 'oz', 'got', 'accustom', 'high', 'level', 'graphic', 'violenc', 'violenc', 'injustic', 'crook', 'guard', 'sold', 'nickel', 'inmat', 'kill', 'order', 'get', 'away', 'well', 'manner', 'middl', 'class', 'inmat', 'turn', 'prison', 'bitch', 'due', 'lack', 'street', 'skill', 'prison', 'experi', 'watch', 'oz', 'may', 'becom', 'comfort', 'uncomfort', 'view', 'that', 'get', 'touch', 'darker', 'side']\n"
     ]
    }
   ],
   "source": [
    "\n",
    "list_text = [s.split() for s in feature]\n",
    "print(list_text[0])"
   ]
  },
  {
   "cell_type": "code",
   "execution_count": 38,
   "metadata": {},
   "outputs": [
    {
     "name": "stdout",
     "output_type": "stream",
     "text": [
      "Word2Vec<vocab=18561, vector_size=300, alpha=0.025>\n"
     ]
    }
   ],
   "source": [
    "cbow = Word2Vec(list_text,vector_size=300, min_count=10)\n",
    "print(cbow)"
   ]
  },
  {
   "cell_type": "code",
   "execution_count": 39,
   "metadata": {},
   "outputs": [
    {
     "data": {
      "text/plain": [
       "['br', 'movi', 'film', 'one', 'like', 'time', 'good', 'make', 'get', 'charact']"
      ]
     },
     "execution_count": 39,
     "metadata": {},
     "output_type": "execute_result"
    }
   ],
   "source": [
    "cbow.wv.index_to_key[:10]"
   ]
  },
  {
   "cell_type": "code",
   "execution_count": 41,
   "metadata": {},
   "outputs": [
    {
     "data": {
      "text/plain": [
       "18561"
      ]
     },
     "execution_count": 41,
     "metadata": {},
     "output_type": "execute_result"
    }
   ],
   "source": [
    "len(cbow.wv.index_to_key)"
   ]
  },
  {
   "cell_type": "code",
   "execution_count": 42,
   "metadata": {},
   "outputs": [],
   "source": [
    "def document_vector(doc):\n",
    "    \"\"\"Create document vectors by averaging word vectors. Remove out-of-vocabulary words.\"\"\"\n",
    "    \n",
    "    # doc1 contains those words of the document which are included in the vocab\n",
    "    doc1 = [word for word in doc.split() if word in cbow.wv.index_to_key]\n",
    "    \n",
    "    wv1 = []  # this will contain the WE of all the vocab words from the doc\n",
    "    for word in doc1:\n",
    "        wv1.append(cbow.wv.get_vector(word))\n",
    "    wv1_ = np.array(wv1)\n",
    "    wv1_mean = wv1_.mean(axis=0)\n",
    "    return wv1_mean\n",
    "\n",
    "# np.mean(model[doc], axis=0)"
   ]
  },
  {
   "cell_type": "code",
   "execution_count": 44,
   "metadata": {},
   "outputs": [
    {
     "name": "stderr",
     "output_type": "stream",
     "text": [
      "/tmp/ipykernel_108240/320452631.py:11: RuntimeWarning: Mean of empty slice.\n",
      "  wv1_mean = wv1_.mean(axis=0)\n",
      "/home/cdot/PycharmProjects/IMDB_Movie_talk/.venv/lib/python3.10/site-packages/numpy/core/_methods.py:129: RuntimeWarning: invalid value encountered in scalar divide\n",
      "  ret = ret.dtype.type(ret / rcount)\n"
     ]
    }
   ],
   "source": [
    "temp_review = df[\"review\"].apply(document_vector)"
   ]
  },
  {
   "cell_type": "code",
   "execution_count": 50,
   "metadata": {},
   "outputs": [
    {
     "data": {
      "text/plain": [
       "50000"
      ]
     },
     "execution_count": 50,
     "metadata": {},
     "output_type": "execute_result"
    }
   ],
   "source": [
    "len(temp_review)"
   ]
  },
  {
   "cell_type": "code",
   "execution_count": 52,
   "metadata": {},
   "outputs": [
    {
     "data": {
      "text/plain": [
       "(300,)"
      ]
     },
     "execution_count": 52,
     "metadata": {},
     "output_type": "execute_result"
    }
   ],
   "source": [
    "temp_review[0].shape"
   ]
  },
  {
   "cell_type": "code",
   "execution_count": 53,
   "metadata": {},
   "outputs": [
    {
     "data": {
      "text/plain": [
       "(50000, 300)"
      ]
     },
     "execution_count": 53,
     "metadata": {},
     "output_type": "execute_result"
    }
   ],
   "source": [
    "\n",
    "# Combining all the document vectors into a singl numpy array (tweets_vec)\n",
    "embedding_size = 300\n",
    "tweets_vec = np.ones((len(temp_review), embedding_size))*np.nan\n",
    "for i in range(tweets_vec.shape[0]):\n",
    "    tweets_vec[i,:] = temp_review.iloc[i]\n",
    "\n",
    "tweets_vec.shape # this itself is your final FEATURE MATRIX"
   ]
  },
  {
   "cell_type": "code",
   "execution_count": 56,
   "metadata": {},
   "outputs": [],
   "source": [
    "\n",
    " \n",
    "# Create a new DF to store these new documnent features\n",
    "df = pd.DataFrame(tweets_vec)\n",
    "df['y'] = label\n",
    "df.dropna(how='any', axis=0, inplace=True)"
   ]
  },
  {
   "cell_type": "code",
   "execution_count": 57,
   "metadata": {},
   "outputs": [
    {
     "data": {
      "text/html": [
       "<div>\n",
       "<style scoped>\n",
       "    .dataframe tbody tr th:only-of-type {\n",
       "        vertical-align: middle;\n",
       "    }\n",
       "\n",
       "    .dataframe tbody tr th {\n",
       "        vertical-align: top;\n",
       "    }\n",
       "\n",
       "    .dataframe thead th {\n",
       "        text-align: right;\n",
       "    }\n",
       "</style>\n",
       "<table border=\"1\" class=\"dataframe\">\n",
       "  <thead>\n",
       "    <tr style=\"text-align: right;\">\n",
       "      <th></th>\n",
       "      <th>0</th>\n",
       "      <th>1</th>\n",
       "      <th>2</th>\n",
       "      <th>3</th>\n",
       "      <th>4</th>\n",
       "      <th>5</th>\n",
       "      <th>6</th>\n",
       "      <th>7</th>\n",
       "      <th>8</th>\n",
       "      <th>9</th>\n",
       "      <th>...</th>\n",
       "      <th>291</th>\n",
       "      <th>292</th>\n",
       "      <th>293</th>\n",
       "      <th>294</th>\n",
       "      <th>295</th>\n",
       "      <th>296</th>\n",
       "      <th>297</th>\n",
       "      <th>298</th>\n",
       "      <th>299</th>\n",
       "      <th>y</th>\n",
       "    </tr>\n",
       "  </thead>\n",
       "  <tbody>\n",
       "    <tr>\n",
       "      <th>0</th>\n",
       "      <td>0.027198</td>\n",
       "      <td>-0.174467</td>\n",
       "      <td>0.051343</td>\n",
       "      <td>0.127409</td>\n",
       "      <td>-0.165963</td>\n",
       "      <td>-0.239659</td>\n",
       "      <td>0.053885</td>\n",
       "      <td>0.340643</td>\n",
       "      <td>-0.062303</td>\n",
       "      <td>-0.113435</td>\n",
       "      <td>...</td>\n",
       "      <td>0.002009</td>\n",
       "      <td>-0.039062</td>\n",
       "      <td>-0.057389</td>\n",
       "      <td>-0.062950</td>\n",
       "      <td>0.064735</td>\n",
       "      <td>-0.053643</td>\n",
       "      <td>-0.214199</td>\n",
       "      <td>0.126458</td>\n",
       "      <td>-0.227920</td>\n",
       "      <td>1</td>\n",
       "    </tr>\n",
       "    <tr>\n",
       "      <th>1</th>\n",
       "      <td>-0.080131</td>\n",
       "      <td>-0.108699</td>\n",
       "      <td>-0.151516</td>\n",
       "      <td>0.102549</td>\n",
       "      <td>-0.014205</td>\n",
       "      <td>-0.225853</td>\n",
       "      <td>-0.147408</td>\n",
       "      <td>0.360040</td>\n",
       "      <td>0.004650</td>\n",
       "      <td>-0.331680</td>\n",
       "      <td>...</td>\n",
       "      <td>0.122931</td>\n",
       "      <td>0.100293</td>\n",
       "      <td>0.015300</td>\n",
       "      <td>-0.090814</td>\n",
       "      <td>0.055899</td>\n",
       "      <td>-0.225455</td>\n",
       "      <td>-0.102607</td>\n",
       "      <td>0.135652</td>\n",
       "      <td>-0.173392</td>\n",
       "      <td>1</td>\n",
       "    </tr>\n",
       "    <tr>\n",
       "      <th>2</th>\n",
       "      <td>-0.072536</td>\n",
       "      <td>-0.155268</td>\n",
       "      <td>-0.068612</td>\n",
       "      <td>0.067654</td>\n",
       "      <td>-0.069609</td>\n",
       "      <td>-0.151425</td>\n",
       "      <td>-0.066818</td>\n",
       "      <td>0.323395</td>\n",
       "      <td>-0.042048</td>\n",
       "      <td>-0.209786</td>\n",
       "      <td>...</td>\n",
       "      <td>0.012230</td>\n",
       "      <td>-0.036098</td>\n",
       "      <td>-0.019296</td>\n",
       "      <td>0.018386</td>\n",
       "      <td>-0.010224</td>\n",
       "      <td>-0.111716</td>\n",
       "      <td>-0.202387</td>\n",
       "      <td>0.129005</td>\n",
       "      <td>-0.235551</td>\n",
       "      <td>1</td>\n",
       "    </tr>\n",
       "    <tr>\n",
       "      <th>3</th>\n",
       "      <td>0.045804</td>\n",
       "      <td>-0.152117</td>\n",
       "      <td>0.019586</td>\n",
       "      <td>0.245824</td>\n",
       "      <td>-0.214670</td>\n",
       "      <td>-0.145995</td>\n",
       "      <td>-0.077055</td>\n",
       "      <td>0.530866</td>\n",
       "      <td>-0.148450</td>\n",
       "      <td>-0.126891</td>\n",
       "      <td>...</td>\n",
       "      <td>-0.036710</td>\n",
       "      <td>-0.144301</td>\n",
       "      <td>-0.193688</td>\n",
       "      <td>-0.107201</td>\n",
       "      <td>0.002744</td>\n",
       "      <td>-0.023160</td>\n",
       "      <td>-0.000735</td>\n",
       "      <td>0.076472</td>\n",
       "      <td>-0.093292</td>\n",
       "      <td>0</td>\n",
       "    </tr>\n",
       "    <tr>\n",
       "      <th>4</th>\n",
       "      <td>-0.046833</td>\n",
       "      <td>-0.275197</td>\n",
       "      <td>0.027965</td>\n",
       "      <td>0.187194</td>\n",
       "      <td>-0.089729</td>\n",
       "      <td>-0.259845</td>\n",
       "      <td>-0.019544</td>\n",
       "      <td>0.258328</td>\n",
       "      <td>-0.200672</td>\n",
       "      <td>-0.197057</td>\n",
       "      <td>...</td>\n",
       "      <td>-0.024649</td>\n",
       "      <td>-0.054783</td>\n",
       "      <td>-0.060997</td>\n",
       "      <td>-0.035893</td>\n",
       "      <td>0.086026</td>\n",
       "      <td>-0.137762</td>\n",
       "      <td>-0.185741</td>\n",
       "      <td>0.120904</td>\n",
       "      <td>-0.254451</td>\n",
       "      <td>1</td>\n",
       "    </tr>\n",
       "  </tbody>\n",
       "</table>\n",
       "<p>5 rows × 301 columns</p>\n",
       "</div>"
      ],
      "text/plain": [
       "          0         1         2         3         4         5         6  \\\n",
       "0  0.027198 -0.174467  0.051343  0.127409 -0.165963 -0.239659  0.053885   \n",
       "1 -0.080131 -0.108699 -0.151516  0.102549 -0.014205 -0.225853 -0.147408   \n",
       "2 -0.072536 -0.155268 -0.068612  0.067654 -0.069609 -0.151425 -0.066818   \n",
       "3  0.045804 -0.152117  0.019586  0.245824 -0.214670 -0.145995 -0.077055   \n",
       "4 -0.046833 -0.275197  0.027965  0.187194 -0.089729 -0.259845 -0.019544   \n",
       "\n",
       "          7         8         9  ...       291       292       293       294  \\\n",
       "0  0.340643 -0.062303 -0.113435  ...  0.002009 -0.039062 -0.057389 -0.062950   \n",
       "1  0.360040  0.004650 -0.331680  ...  0.122931  0.100293  0.015300 -0.090814   \n",
       "2  0.323395 -0.042048 -0.209786  ...  0.012230 -0.036098 -0.019296  0.018386   \n",
       "3  0.530866 -0.148450 -0.126891  ... -0.036710 -0.144301 -0.193688 -0.107201   \n",
       "4  0.258328 -0.200672 -0.197057  ... -0.024649 -0.054783 -0.060997 -0.035893   \n",
       "\n",
       "        295       296       297       298       299  y  \n",
       "0  0.064735 -0.053643 -0.214199  0.126458 -0.227920  1  \n",
       "1  0.055899 -0.225455 -0.102607  0.135652 -0.173392  1  \n",
       "2 -0.010224 -0.111716 -0.202387  0.129005 -0.235551  1  \n",
       "3  0.002744 -0.023160 -0.000735  0.076472 -0.093292  0  \n",
       "4  0.086026 -0.137762 -0.185741  0.120904 -0.254451  1  \n",
       "\n",
       "[5 rows x 301 columns]"
      ]
     },
     "execution_count": 57,
     "metadata": {},
     "output_type": "execute_result"
    }
   ],
   "source": [
    "df.head()"
   ]
  },
  {
   "cell_type": "code",
   "execution_count": 58,
   "metadata": {},
   "outputs": [
    {
     "data": {
      "text/plain": [
       "(49987, 301)"
      ]
     },
     "execution_count": 58,
     "metadata": {},
     "output_type": "execute_result"
    }
   ],
   "source": [
    "df.shape"
   ]
  },
  {
   "cell_type": "code",
   "execution_count": 59,
   "metadata": {},
   "outputs": [
    {
     "data": {
      "text/plain": [
       "(49987, 300)"
      ]
     },
     "execution_count": 59,
     "metadata": {},
     "output_type": "execute_result"
    }
   ],
   "source": [
    "X_word_emb = df.drop('y', axis=1)\n",
    "y = df['y']\n",
    "X_word_emb.shape"
   ]
  },
  {
   "cell_type": "code",
   "execution_count": 60,
   "metadata": {},
   "outputs": [],
   "source": [
    "\n",
    "from sklearn.pipeline import make_pipeline, Pipeline\n",
    "from sklearn.linear_model import LogisticRegression\n",
    "from sklearn.model_selection import cross_val_score, cross_validate\n",
    "from sklearn.model_selection import StratifiedKFold\n",
    "from sklearn.preprocessing import StandardScaler\n",
    "from sklearn.feature_extraction.text import CountVectorizer"
   ]
  },
  {
   "cell_type": "code",
   "execution_count": 61,
   "metadata": {},
   "outputs": [
    {
     "name": "stdout",
     "output_type": "stream",
     "text": [
      "80.09 0.07\n",
      "79.77 0.2\n"
     ]
    }
   ],
   "source": [
    "kfold = StratifiedKFold(n_splits=5, shuffle=True, random_state=42)\n",
    "LR1 = LogisticRegression(class_weight='balanced', solver='liblinear', penalty='l1', C=0.4, random_state=42)\n",
    "WE_pipe = Pipeline([('SC', StandardScaler()), ('LR', LR1)] )\n",
    "\n",
    "results = cross_validate(WE_pipe, X_word_emb, y, cv=kfold, scoring='accuracy', return_train_score=True)\n",
    "\n",
    "# print(results['train_score'])\n",
    "print(np.round((results['train_score'].mean())*100, 2), np.round((results['train_score'].std())*100, 2)) \n",
    "\n",
    "# print(results['test_score'])\n",
    "print(np.round((results['test_score'].mean())*100, 2), np.round((results['test_score'].std())*100, 2)) "
   ]
  },
  {
   "cell_type": "markdown",
   "metadata": {},
   "source": [
    "### Spliting teh data into train and test sets"
   ]
  },
  {
   "cell_type": "code",
   "execution_count": 31,
   "metadata": {},
   "outputs": [],
   "source": [
    "from sklearn.model_selection import train_test_split\n",
    "from sklearn.metrics import accuracy_score, classification_report, confusion_matrix\n",
    "from sklearn.linear_model import LogisticRegression\n",
    "from sklearn.naive_bayes import BernoulliNB\n",
    "from sklearn.svm import SVC\n",
    "from sklearn.tree import DecisionTreeClassifier\n",
    "from sklearn.model_selection import GridSearchCV, RandomizedSearchCV"
   ]
  },
  {
   "cell_type": "code",
   "execution_count": 32,
   "metadata": {},
   "outputs": [
    {
     "name": "stdout",
     "output_type": "stream",
     "text": [
      "(35000, 66135) (15000, 66135) (35000,) (15000,)\n"
     ]
    }
   ],
   "source": [
    "X_train, X_test, y_train, y_test = train_test_split(vect, label, test_size=0.3, random_state=123)\n",
    "print(X_train.shape, X_test.shape, y_train.shape, y_test.shape)"
   ]
  },
  {
   "cell_type": "markdown",
   "metadata": {},
   "source": [
    "### Logistic Regression"
   ]
  },
  {
   "cell_type": "code",
   "execution_count": 33,
   "metadata": {},
   "outputs": [],
   "source": [
    "lr = LogisticRegression(max_iter=10)"
   ]
  },
  {
   "cell_type": "code",
   "execution_count": 34,
   "metadata": {},
   "outputs": [
    {
     "name": "stderr",
     "output_type": "stream",
     "text": [
      "/home/cdot/PycharmProjects/IMDB_Movie_talk/.venv/lib/python3.10/site-packages/sklearn/linear_model/_logistic.py:460: ConvergenceWarning: lbfgs failed to converge (status=1):\n",
      "STOP: TOTAL NO. of ITERATIONS REACHED LIMIT.\n",
      "\n",
      "Increase the number of iterations (max_iter) or scale the data as shown in:\n",
      "    https://scikit-learn.org/stable/modules/preprocessing.html\n",
      "Please also refer to the documentation for alternative solver options:\n",
      "    https://scikit-learn.org/stable/modules/linear_model.html#logistic-regression\n",
      "  n_iter_i = _check_optimize_result(\n"
     ]
    },
    {
     "data": {
      "text/html": [
       "<style>#sk-container-id-1 {color: black;}#sk-container-id-1 pre{padding: 0;}#sk-container-id-1 div.sk-toggleable {background-color: white;}#sk-container-id-1 label.sk-toggleable__label {cursor: pointer;display: block;width: 100%;margin-bottom: 0;padding: 0.3em;box-sizing: border-box;text-align: center;}#sk-container-id-1 label.sk-toggleable__label-arrow:before {content: \"▸\";float: left;margin-right: 0.25em;color: #696969;}#sk-container-id-1 label.sk-toggleable__label-arrow:hover:before {color: black;}#sk-container-id-1 div.sk-estimator:hover label.sk-toggleable__label-arrow:before {color: black;}#sk-container-id-1 div.sk-toggleable__content {max-height: 0;max-width: 0;overflow: hidden;text-align: left;background-color: #f0f8ff;}#sk-container-id-1 div.sk-toggleable__content pre {margin: 0.2em;color: black;border-radius: 0.25em;background-color: #f0f8ff;}#sk-container-id-1 input.sk-toggleable__control:checked~div.sk-toggleable__content {max-height: 200px;max-width: 100%;overflow: auto;}#sk-container-id-1 input.sk-toggleable__control:checked~label.sk-toggleable__label-arrow:before {content: \"▾\";}#sk-container-id-1 div.sk-estimator input.sk-toggleable__control:checked~label.sk-toggleable__label {background-color: #d4ebff;}#sk-container-id-1 div.sk-label input.sk-toggleable__control:checked~label.sk-toggleable__label {background-color: #d4ebff;}#sk-container-id-1 input.sk-hidden--visually {border: 0;clip: rect(1px 1px 1px 1px);clip: rect(1px, 1px, 1px, 1px);height: 1px;margin: -1px;overflow: hidden;padding: 0;position: absolute;width: 1px;}#sk-container-id-1 div.sk-estimator {font-family: monospace;background-color: #f0f8ff;border: 1px dotted black;border-radius: 0.25em;box-sizing: border-box;margin-bottom: 0.5em;}#sk-container-id-1 div.sk-estimator:hover {background-color: #d4ebff;}#sk-container-id-1 div.sk-parallel-item::after {content: \"\";width: 100%;border-bottom: 1px solid gray;flex-grow: 1;}#sk-container-id-1 div.sk-label:hover label.sk-toggleable__label {background-color: #d4ebff;}#sk-container-id-1 div.sk-serial::before {content: \"\";position: absolute;border-left: 1px solid gray;box-sizing: border-box;top: 0;bottom: 0;left: 50%;z-index: 0;}#sk-container-id-1 div.sk-serial {display: flex;flex-direction: column;align-items: center;background-color: white;padding-right: 0.2em;padding-left: 0.2em;position: relative;}#sk-container-id-1 div.sk-item {position: relative;z-index: 1;}#sk-container-id-1 div.sk-parallel {display: flex;align-items: stretch;justify-content: center;background-color: white;position: relative;}#sk-container-id-1 div.sk-item::before, #sk-container-id-1 div.sk-parallel-item::before {content: \"\";position: absolute;border-left: 1px solid gray;box-sizing: border-box;top: 0;bottom: 0;left: 50%;z-index: -1;}#sk-container-id-1 div.sk-parallel-item {display: flex;flex-direction: column;z-index: 1;position: relative;background-color: white;}#sk-container-id-1 div.sk-parallel-item:first-child::after {align-self: flex-end;width: 50%;}#sk-container-id-1 div.sk-parallel-item:last-child::after {align-self: flex-start;width: 50%;}#sk-container-id-1 div.sk-parallel-item:only-child::after {width: 0;}#sk-container-id-1 div.sk-dashed-wrapped {border: 1px dashed gray;margin: 0 0.4em 0.5em 0.4em;box-sizing: border-box;padding-bottom: 0.4em;background-color: white;}#sk-container-id-1 div.sk-label label {font-family: monospace;font-weight: bold;display: inline-block;line-height: 1.2em;}#sk-container-id-1 div.sk-label-container {text-align: center;}#sk-container-id-1 div.sk-container {/* jupyter's `normalize.less` sets `[hidden] { display: none; }` but bootstrap.min.css set `[hidden] { display: none !important; }` so we also need the `!important` here to be able to override the default hidden behavior on the sphinx rendered scikit-learn.org. See: https://github.com/scikit-learn/scikit-learn/issues/21755 */display: inline-block !important;position: relative;}#sk-container-id-1 div.sk-text-repr-fallback {display: none;}</style><div id=\"sk-container-id-1\" class=\"sk-top-container\"><div class=\"sk-text-repr-fallback\"><pre>LogisticRegression(max_iter=10)</pre><b>In a Jupyter environment, please rerun this cell to show the HTML representation or trust the notebook. <br />On GitHub, the HTML representation is unable to render, please try loading this page with nbviewer.org.</b></div><div class=\"sk-container\" hidden><div class=\"sk-item\"><div class=\"sk-estimator sk-toggleable\"><input class=\"sk-toggleable__control sk-hidden--visually\" id=\"sk-estimator-id-1\" type=\"checkbox\" checked><label for=\"sk-estimator-id-1\" class=\"sk-toggleable__label sk-toggleable__label-arrow\">LogisticRegression</label><div class=\"sk-toggleable__content\"><pre>LogisticRegression(max_iter=10)</pre></div></div></div></div></div>"
      ],
      "text/plain": [
       "LogisticRegression(max_iter=10)"
      ]
     },
     "execution_count": 34,
     "metadata": {},
     "output_type": "execute_result"
    }
   ],
   "source": [
    "lr.fit(X_train,y_train)"
   ]
  },
  {
   "cell_type": "code",
   "execution_count": 35,
   "metadata": {},
   "outputs": [
    {
     "name": "stdout",
     "output_type": "stream",
     "text": [
      "[[6431  870]\n",
      " [1038 6661]]\n"
     ]
    }
   ],
   "source": [
    "\n",
    "y_pred = lr.predict(X_test)\n",
    "print(confusion_matrix(y_pred, y_test))"
   ]
  },
  {
   "cell_type": "code",
   "execution_count": 36,
   "metadata": {},
   "outputs": [
    {
     "name": "stdout",
     "output_type": "stream",
     "text": [
      "0.8728\n"
     ]
    }
   ],
   "source": [
    "print(accuracy_score(y_pred, y_test))"
   ]
  },
  {
   "cell_type": "code",
   "execution_count": 37,
   "metadata": {},
   "outputs": [
    {
     "name": "stdout",
     "output_type": "stream",
     "text": [
      "              precision    recall  f1-score   support\n",
      "\n",
      "           0       0.86      0.88      0.87      7301\n",
      "           1       0.88      0.87      0.87      7699\n",
      "\n",
      "    accuracy                           0.87     15000\n",
      "   macro avg       0.87      0.87      0.87     15000\n",
      "weighted avg       0.87      0.87      0.87     15000\n",
      "\n"
     ]
    }
   ],
   "source": [
    "print(classification_report(y_pred, y_test))"
   ]
  },
  {
   "cell_type": "markdown",
   "metadata": {},
   "source": [
    "### Naive Bayes"
   ]
  },
  {
   "cell_type": "code",
   "execution_count": 43,
   "metadata": {},
   "outputs": [],
   "source": [
    "nb = BernoulliNB()"
   ]
  },
  {
   "cell_type": "code",
   "execution_count": 44,
   "metadata": {},
   "outputs": [
    {
     "name": "stdout",
     "output_type": "stream",
     "text": [
      "[[6524 1440]\n",
      " [ 945 6091]]\n"
     ]
    }
   ],
   "source": [
    "nb.fit(X_train, y_train)\n",
    "y_pred = nb.predict(X_test)\n",
    "print(confusion_matrix(y_pred,y_test))"
   ]
  },
  {
   "cell_type": "code",
   "execution_count": 45,
   "metadata": {},
   "outputs": [
    {
     "name": "stdout",
     "output_type": "stream",
     "text": [
      "0.841\n"
     ]
    }
   ],
   "source": [
    "print(accuracy_score(y_pred,y_test))"
   ]
  },
  {
   "cell_type": "code",
   "execution_count": 46,
   "metadata": {},
   "outputs": [
    {
     "name": "stdout",
     "output_type": "stream",
     "text": [
      "              precision    recall  f1-score   support\n",
      "\n",
      "           0       0.87      0.82      0.85      7964\n",
      "           1       0.81      0.87      0.84      7036\n",
      "\n",
      "    accuracy                           0.84     15000\n",
      "   macro avg       0.84      0.84      0.84     15000\n",
      "weighted avg       0.84      0.84      0.84     15000\n",
      "\n"
     ]
    }
   ],
   "source": [
    "print(classification_report(y_pred, y_test))"
   ]
  },
  {
   "cell_type": "markdown",
   "metadata": {},
   "source": [
    "### Support Vector Machine\n"
   ]
  },
  {
   "cell_type": "code",
   "execution_count": 63,
   "metadata": {},
   "outputs": [
    {
     "name": "stdout",
     "output_type": "stream",
     "text": [
      "[[6428  751]\n",
      " [1041 6780]]\n"
     ]
    }
   ],
   "source": [
    "svm = SVC()\n",
    "svm.fit(X_train, y_train)\n",
    "y_pred = svm.predict(X_test)\n",
    "print(confusion_matrix(y_pred, y_test))"
   ]
  },
  {
   "cell_type": "code",
   "execution_count": 66,
   "metadata": {},
   "outputs": [
    {
     "name": "stdout",
     "output_type": "stream",
     "text": [
      "0.8805333333333333\n"
     ]
    }
   ],
   "source": [
    "print(accuracy_score(y_pred, y_test))"
   ]
  },
  {
   "cell_type": "code",
   "execution_count": 67,
   "metadata": {},
   "outputs": [
    {
     "name": "stdout",
     "output_type": "stream",
     "text": [
      "              precision    recall  f1-score   support\n",
      "\n",
      "           0       0.86      0.90      0.88      7179\n",
      "           1       0.90      0.87      0.88      7821\n",
      "\n",
      "    accuracy                           0.88     15000\n",
      "   macro avg       0.88      0.88      0.88     15000\n",
      "weighted avg       0.88      0.88      0.88     15000\n",
      "\n"
     ]
    }
   ],
   "source": [
    "print(classification_report(y_pred,y_test))"
   ]
  },
  {
   "cell_type": "markdown",
   "metadata": {},
   "source": [
    "### Decision Tree"
   ]
  },
  {
   "cell_type": "code",
   "execution_count": 50,
   "metadata": {},
   "outputs": [
    {
     "name": "stdout",
     "output_type": "stream",
     "text": [
      "[[5384 2139]\n",
      " [2085 5392]]\n"
     ]
    }
   ],
   "source": [
    "dtc = DecisionTreeClassifier()\n",
    "dtc.fit(X_train,y_train)\n",
    "y_pred = dtc.predict(X_test)\n",
    "print(confusion_matrix(y_pred, y_test))\n"
   ]
  },
  {
   "cell_type": "code",
   "execution_count": 51,
   "metadata": {},
   "outputs": [
    {
     "name": "stdout",
     "output_type": "stream",
     "text": [
      "0.7184\n"
     ]
    }
   ],
   "source": [
    "print(accuracy_score(y_pred, y_test))"
   ]
  },
  {
   "cell_type": "code",
   "execution_count": 52,
   "metadata": {},
   "outputs": [
    {
     "name": "stdout",
     "output_type": "stream",
     "text": [
      "              precision    recall  f1-score   support\n",
      "\n",
      "           0       0.72      0.72      0.72      7523\n",
      "           1       0.72      0.72      0.72      7477\n",
      "\n",
      "    accuracy                           0.72     15000\n",
      "   macro avg       0.72      0.72      0.72     15000\n",
      "weighted avg       0.72      0.72      0.72     15000\n",
      "\n"
     ]
    }
   ],
   "source": [
    "print(classification_report(y_pred, y_test))"
   ]
  },
  {
   "cell_type": "markdown",
   "metadata": {},
   "source": [
    "### Random Forest"
   ]
  },
  {
   "cell_type": "code",
   "execution_count": 53,
   "metadata": {},
   "outputs": [],
   "source": [
    "from sklearn.ensemble import RandomForestClassifier"
   ]
  },
  {
   "cell_type": "code",
   "execution_count": 54,
   "metadata": {},
   "outputs": [
    {
     "name": "stdout",
     "output_type": "stream",
     "text": [
      "[[6316 1186]\n",
      " [1153 6345]]\n"
     ]
    }
   ],
   "source": [
    "rfc = RandomForestClassifier()\n",
    "rfc.fit(X_train,y_train)\n",
    "y_pred = rfc.predict(X_test)\n",
    "print(confusion_matrix(y_pred, y_test))"
   ]
  },
  {
   "cell_type": "code",
   "execution_count": 55,
   "metadata": {},
   "outputs": [
    {
     "name": "stdout",
     "output_type": "stream",
     "text": [
      "0.8440666666666666\n"
     ]
    }
   ],
   "source": [
    "print(accuracy_score(y_pred, y_test))"
   ]
  },
  {
   "cell_type": "code",
   "execution_count": 56,
   "metadata": {},
   "outputs": [
    {
     "name": "stdout",
     "output_type": "stream",
     "text": [
      "              precision    recall  f1-score   support\n",
      "\n",
      "           0       0.85      0.84      0.84      7502\n",
      "           1       0.84      0.85      0.84      7498\n",
      "\n",
      "    accuracy                           0.84     15000\n",
      "   macro avg       0.84      0.84      0.84     15000\n",
      "weighted avg       0.84      0.84      0.84     15000\n",
      "\n"
     ]
    }
   ],
   "source": [
    "print(classification_report(y_pred, y_test))"
   ]
  },
  {
   "cell_type": "markdown",
   "metadata": {},
   "source": [
    "### Unseen data Prediction"
   ]
  },
  {
   "cell_type": "markdown",
   "metadata": {},
   "source": [
    "#### Unseen data processing for model"
   ]
  },
  {
   "cell_type": "code",
   "execution_count": 105,
   "metadata": {},
   "outputs": [],
   "source": [
    "rw = \"not go again to watch movie\"\n",
    "    "
   ]
  },
  {
   "cell_type": "code",
   "execution_count": 106,
   "metadata": {},
   "outputs": [],
   "source": [
    "corpus1 = []\n",
    "review = word_tokenize(rw)\n",
    "    # print(review)\n",
    "    # print()\n",
    "review = [w.lower() for w in review if w.isalpha()]\n",
    "    # print(review)\n",
    "    # print()\n",
    "review = [ps.stem(w) for w in review if w not in stopwords.words('english')]\n",
    "    # print(review)\n",
    "    # print()\n",
    "review = \" \".join(review)\n",
    "corpus1.append(review)\n",
    "\n"
   ]
  },
  {
   "cell_type": "code",
   "execution_count": 107,
   "metadata": {},
   "outputs": [
    {
     "data": {
      "text/plain": [
       "['go watch movi']"
      ]
     },
     "execution_count": 107,
     "metadata": {},
     "output_type": "execute_result"
    }
   ],
   "source": [
    "corpus1"
   ]
  },
  {
   "cell_type": "code",
   "execution_count": 108,
   "metadata": {},
   "outputs": [
    {
     "data": {
      "text/plain": [
       "{'one': 41528,\n",
       " 'review': 48275,\n",
       " 'mention': 36918,\n",
       " 'watch': 63485,\n",
       " 'oz': 42353,\n",
       " 'episod': 18203,\n",
       " 'hook': 26681,\n",
       " 'right': 48527,\n",
       " 'exactli': 18744,\n",
       " 'happen': 25015,\n",
       " 'br': 6996,\n",
       " 'first': 20214,\n",
       " 'thing': 58175,\n",
       " 'struck': 55723,\n",
       " 'brutal': 7673,\n",
       " 'unflinch': 60998,\n",
       " 'scene': 50559,\n",
       " 'violenc': 62768,\n",
       " 'set': 51591,\n",
       " 'word': 64756,\n",
       " 'go': 23114,\n",
       " 'show': 52378,\n",
       " 'faint': 19175,\n",
       " 'heart': 25496,\n",
       " 'timid': 58570,\n",
       " 'pull': 46108,\n",
       " 'punch': 46142,\n",
       " 'regard': 47637,\n",
       " 'drug': 16544,\n",
       " 'sex': 51653,\n",
       " 'hardcor': 25056,\n",
       " 'classic': 10811,\n",
       " 'use': 61841,\n",
       " 'call': 8453,\n",
       " 'nicknam': 40179,\n",
       " 'given': 22911,\n",
       " 'oswald': 41921,\n",
       " 'maximum': 36123,\n",
       " 'secur': 51195,\n",
       " 'state': 55030,\n",
       " 'penitentari': 43409,\n",
       " 'focus': 20670,\n",
       " 'mainli': 35027,\n",
       " 'emerald': 17784,\n",
       " 'citi': 10704,\n",
       " 'experiment': 18906,\n",
       " 'section': 51190,\n",
       " 'prison': 45577,\n",
       " 'cell': 9450,\n",
       " 'glass': 22955,\n",
       " 'front': 21427,\n",
       " 'face': 19105,\n",
       " 'inward': 28733,\n",
       " 'privaci': 45587,\n",
       " 'high': 26083,\n",
       " 'agenda': 801,\n",
       " 'em': 17728,\n",
       " 'home': 26549,\n",
       " 'mani': 35381,\n",
       " 'aryan': 2975,\n",
       " 'muslim': 39125,\n",
       " 'gangsta': 21974,\n",
       " 'latino': 32601,\n",
       " 'christian': 10415,\n",
       " 'italian': 28970,\n",
       " 'irish': 28805,\n",
       " 'scuffl': 51040,\n",
       " 'death': 14011,\n",
       " 'stare': 54970,\n",
       " 'dodgi': 15848,\n",
       " 'deal': 13986,\n",
       " 'shadi': 51724,\n",
       " 'agreement': 870,\n",
       " 'never': 40019,\n",
       " 'far': 19361,\n",
       " 'would': 64853,\n",
       " 'say': 50422,\n",
       " 'main': 35021,\n",
       " 'appeal': 2464,\n",
       " 'due': 16668,\n",
       " 'fact': 19130,\n",
       " 'goe': 23194,\n",
       " 'dare': 13741,\n",
       " 'forget': 20873,\n",
       " 'pretti': 45478,\n",
       " 'pictur': 44065,\n",
       " 'paint': 42482,\n",
       " 'mainstream': 35037,\n",
       " 'audienc': 3379,\n",
       " 'charm': 9820,\n",
       " 'romanc': 48988,\n",
       " 'mess': 37063,\n",
       " 'around': 2853,\n",
       " 'ever': 18648,\n",
       " 'saw': 50399,\n",
       " 'nasti': 39573,\n",
       " 'surreal': 56471,\n",
       " 'could': 12432,\n",
       " 'readi': 47256,\n",
       " 'develop': 14890,\n",
       " 'tast': 57363,\n",
       " 'got': 23498,\n",
       " 'accustom': 325,\n",
       " 'level': 33199,\n",
       " 'graphic': 23699,\n",
       " 'injustic': 28289,\n",
       " 'crook': 12959,\n",
       " 'guard': 24170,\n",
       " 'sold': 53851,\n",
       " 'nickel': 40165,\n",
       " 'inmat': 28304,\n",
       " 'kill': 31073,\n",
       " 'order': 41738,\n",
       " 'get': 22542,\n",
       " 'away': 3634,\n",
       " 'well': 63758,\n",
       " 'manner': 35436,\n",
       " 'middl': 37289,\n",
       " 'class': 10809,\n",
       " 'turn': 60027,\n",
       " 'bitch': 5848,\n",
       " 'lack': 32140,\n",
       " 'street': 55598,\n",
       " 'skill': 53055,\n",
       " 'experi': 18902,\n",
       " 'may': 36128,\n",
       " 'becom': 4854,\n",
       " 'comfort': 11474,\n",
       " 'uncomfort': 60646,\n",
       " 'view': 62640,\n",
       " 'that': 57999,\n",
       " 'touch': 59118,\n",
       " 'darker': 13757,\n",
       " 'side': 52589,\n",
       " 'wonder': 64649,\n",
       " 'littl': 33680,\n",
       " 'product': 45661,\n",
       " 'film': 20026,\n",
       " 'techniqu': 57546,\n",
       " 'fashion': 19473,\n",
       " 'give': 22909,\n",
       " 'sometim': 53941,\n",
       " 'discomfort': 15441,\n",
       " 'sens': 51411,\n",
       " 'realism': 47276,\n",
       " 'entir': 18107,\n",
       " 'piec': 44077,\n",
       " 'actor': 429,\n",
       " 'extrem': 19021,\n",
       " 'michael': 37218,\n",
       " 'sheen': 51975,\n",
       " 'polari': 44714,\n",
       " 'voic': 62956,\n",
       " 'pat': 43009,\n",
       " 'truli': 59801,\n",
       " 'see': 51215,\n",
       " 'seamless': 51101,\n",
       " 'edit': 17254,\n",
       " 'guid': 24238,\n",
       " 'refer': 47590,\n",
       " 'william': 64292,\n",
       " 'diari': 15051,\n",
       " 'entri': 18131,\n",
       " 'worth': 64836,\n",
       " 'terrificli': 57852,\n",
       " 'written': 64930,\n",
       " 'perform': 43531,\n",
       " 'master': 35917,\n",
       " 'great': 23782,\n",
       " 'comedi': 11457,\n",
       " 'life': 33346,\n",
       " 'realli': 47284,\n",
       " 'come': 11453,\n",
       " 'fantasi': 19335,\n",
       " 'rather': 47114,\n",
       " 'tradit': 59246,\n",
       " 'remain': 47819,\n",
       " 'solid': 53870,\n",
       " 'disappear': 15396,\n",
       " 'play': 44452,\n",
       " 'knowledg': 31469,\n",
       " 'particularli': 42919,\n",
       " 'concern': 11681,\n",
       " 'orton': 41857,\n",
       " 'halliwel': 24793,\n",
       " 'flat': 20371,\n",
       " 'mural': 39043,\n",
       " 'decor': 14144,\n",
       " 'everi': 18658,\n",
       " 'surfac': 56432,\n",
       " 'terribl': 57847,\n",
       " 'done': 16002,\n",
       " 'thought': 58276,\n",
       " 'way': 63569,\n",
       " 'spend': 54413,\n",
       " 'time': 58537,\n",
       " 'hot': 26859,\n",
       " 'summer': 56150,\n",
       " 'weekend': 63669,\n",
       " 'sit': 52934,\n",
       " 'air': 975,\n",
       " 'condit': 11731,\n",
       " 'theater': 58022,\n",
       " 'plot': 44545,\n",
       " 'simplist': 52793,\n",
       " 'dialogu': 15024,\n",
       " 'witti': 64549,\n",
       " 'charact': 9757,\n",
       " 'likabl': 33409,\n",
       " 'even': 18635,\n",
       " 'bread': 7177,\n",
       " 'suspect': 56516,\n",
       " 'serial': 51534,\n",
       " 'killer': 31081,\n",
       " 'disappoint': 15397,\n",
       " 'realiz': 47282,\n",
       " 'match': 35962,\n",
       " 'point': 44668,\n",
       " 'risk': 48642,\n",
       " 'addict': 484,\n",
       " 'proof': 45760,\n",
       " 'woodi': 64689,\n",
       " 'allen': 1348,\n",
       " 'still': 55307,\n",
       " 'fulli': 21554,\n",
       " 'control': 12051,\n",
       " 'style': 55837,\n",
       " 'us': 61825,\n",
       " 'grown': 24075,\n",
       " 'laugh': 32638,\n",
       " 'year': 65281,\n",
       " 'decad': 14077,\n",
       " 'impress': 27831,\n",
       " 'scarlet': 50514,\n",
       " 'johanson': 29779,\n",
       " 'manag': 35286,\n",
       " 'tone': 58907,\n",
       " 'sexi': 51658,\n",
       " 'imag': 27668,\n",
       " 'jump': 30051,\n",
       " 'averag': 3569,\n",
       " 'spirit': 54513,\n",
       " 'young': 65482,\n",
       " 'crown': 13013,\n",
       " 'jewel': 29599,\n",
       " 'career': 8868,\n",
       " 'wittier': 64551,\n",
       " 'devil': 14910,\n",
       " 'wear': 63616,\n",
       " 'prada': 45208,\n",
       " 'interest': 28523,\n",
       " 'superman': 56309,\n",
       " 'friend': 21341,\n",
       " 'basic': 4511,\n",
       " 'famili': 19271,\n",
       " 'boy': 6963,\n",
       " 'jake': 29195,\n",
       " 'think': 58180,\n",
       " 'zombi': 65971,\n",
       " 'closet': 11025,\n",
       " 'parent': 42819,\n",
       " 'fight': 19984,\n",
       " 'movi': 38723,\n",
       " 'slower': 53358,\n",
       " 'soap': 53709,\n",
       " 'opera': 41646,\n",
       " 'suddenli': 56025,\n",
       " 'decid': 14112,\n",
       " 'rambo': 46918,\n",
       " 'ok': 41367,\n",
       " 'make': 35083,\n",
       " 'must': 39140,\n",
       " 'thriller': 58314,\n",
       " 'drama': 16353,\n",
       " 'watchabl': 63487,\n",
       " 'divorc': 15724,\n",
       " 'argu': 2713,\n",
       " 'like': 33410,\n",
       " 'real': 47269,\n",
       " 'total': 59094,\n",
       " 'ruin': 49426,\n",
       " 'expect': 18886,\n",
       " 'boogeyman': 6644,\n",
       " 'similar': 52756,\n",
       " 'instead': 28426,\n",
       " 'meaningless': 36541,\n",
       " 'descent': 14727,\n",
       " 'dialog': 15023,\n",
       " 'shot': 52359,\n",
       " 'ignor': 27564,\n",
       " 'love': 34164,\n",
       " 'money': 38195,\n",
       " 'visual': 62857,\n",
       " 'stun': 55789,\n",
       " 'mattei': 36039,\n",
       " 'offer': 41277,\n",
       " 'vivid': 62905,\n",
       " 'portrait': 45010,\n",
       " 'human': 27108,\n",
       " 'relat': 47771,\n",
       " 'seem': 51231,\n",
       " 'tell': 57668,\n",
       " 'power': 45167,\n",
       " 'success': 55984,\n",
       " 'peopl': 43454,\n",
       " 'differ': 15159,\n",
       " 'situat': 52949,\n",
       " 'encount': 17908,\n",
       " 'variat': 62157,\n",
       " 'arthur': 2927,\n",
       " 'schnitzler': 50717,\n",
       " 'theme': 58059,\n",
       " 'director': 15364,\n",
       " 'transfer': 59321,\n",
       " 'action': 417,\n",
       " 'present': 45423,\n",
       " 'new': 40035,\n",
       " 'york': 65444,\n",
       " 'meet': 36660,\n",
       " 'connect': 11845,\n",
       " 'anoth': 2157,\n",
       " 'next': 40106,\n",
       " 'person': 43625,\n",
       " 'know': 31464,\n",
       " 'previou': 45496,\n",
       " 'contact': 11963,\n",
       " 'sophist': 54049,\n",
       " 'luxuri': 34499,\n",
       " 'look': 33985,\n",
       " 'taken': 57085,\n",
       " 'live': 33695,\n",
       " 'world': 64799,\n",
       " 'soul': 54138,\n",
       " 'stage': 54840,\n",
       " 'loneli': 33930,\n",
       " 'inhabit': 28264,\n",
       " 'big': 5611,\n",
       " 'best': 5399,\n",
       " 'place': 44354,\n",
       " 'find': 20103,\n",
       " 'sincer': 52815,\n",
       " 'fulfil': 21546,\n",
       " 'discern': 15423,\n",
       " 'case': 9098,\n",
       " 'act': 409,\n",
       " 'good': 23351,\n",
       " 'direct': 15359,\n",
       " 'buscemi': 8090,\n",
       " 'rosario': 49108,\n",
       " 'dawson': 13911,\n",
       " 'carol': 8975,\n",
       " 'kane': 30349,\n",
       " 'imperioli': 27779,\n",
       " 'adrian': 605,\n",
       " 'grenier': 23868,\n",
       " 'rest': 48146,\n",
       " 'talent': 57118,\n",
       " 'cast': 9151,\n",
       " 'wish': 64487,\n",
       " 'luck': 34296,\n",
       " 'await': 3623,\n",
       " 'anxious': 2320,\n",
       " 'work': 64770,\n",
       " 'probabl': 45615,\n",
       " 'favorit': 19564,\n",
       " 'stori': 55459,\n",
       " 'selfless': 51316,\n",
       " 'sacrific': 49707,\n",
       " 'dedic': 14161,\n",
       " 'nobl': 40445,\n",
       " 'caus': 9313,\n",
       " 'preachi': 45256,\n",
       " 'bore': 6747,\n",
       " 'old': 41418,\n",
       " 'despit': 14796,\n",
       " 'seen': 51238,\n",
       " 'last': 32562,\n",
       " 'paul': 43103,\n",
       " 'luka': 34357,\n",
       " 'bring': 7405,\n",
       " 'tear': 57519,\n",
       " 'eye': 19043,\n",
       " 'bett': 5433,\n",
       " 'davi': 13881,\n",
       " 'sympathet': 56828,\n",
       " 'role': 48952,\n",
       " 'delight': 14391,\n",
       " 'kid': 31001,\n",
       " 'grandma': 23667,\n",
       " 'midget': 37305,\n",
       " 'children': 10184,\n",
       " 'fun': 21573,\n",
       " 'mother': 38623,\n",
       " 'slow': 53355,\n",
       " 'awaken': 3625,\n",
       " 'roof': 49047,\n",
       " 'believ': 5062,\n",
       " 'startl': 55016,\n",
       " 'dozen': 16297,\n",
       " 'thumb': 58369,\n",
       " 'sure': 56423,\n",
       " 'resurrect': 48170,\n",
       " 'date': 13840,\n",
       " 'seahunt': 51091,\n",
       " 'seri': 51532,\n",
       " 'tech': 57535,\n",
       " 'today': 58763,\n",
       " 'back': 3832,\n",
       " 'excit': 18780,\n",
       " 'grew': 23886,\n",
       " 'black': 5911,\n",
       " 'white': 64045,\n",
       " 'tv': 60097,\n",
       " 'gunsmok': 24385,\n",
       " 'hero': 25905,\n",
       " 'vote': 63052,\n",
       " 'comeback': 11454,\n",
       " 'sea': 51070,\n",
       " 'need': 39801,\n",
       " 'chang': 9709,\n",
       " 'pace': 42389,\n",
       " 'water': 63501,\n",
       " 'thank': 57989,\n",
       " 'outlet': 42040,\n",
       " 'viewpoint': 62645,\n",
       " 'ole': 41434,\n",
       " 'wan': 63339,\n",
       " 'na': 39294,\n",
       " 'nice': 40147,\n",
       " 'read': 47251,\n",
       " 'plu': 44564,\n",
       " 'rhyme': 48381,\n",
       " 'line': 33519,\n",
       " 'let': 33155,\n",
       " 'submit': 55905,\n",
       " 'leav': 32831,\n",
       " 'doubt': 16209,\n",
       " 'quit': 46598,\n",
       " 'amaz': 1615,\n",
       " 'fresh': 21290,\n",
       " 'innov': 28334,\n",
       " 'idea': 27484,\n",
       " 'brilliant': 7391,\n",
       " 'drop': 16520,\n",
       " 'funni': 21610,\n",
       " 'anymor': 2329,\n",
       " 'continu': 12005,\n",
       " 'declin': 14130,\n",
       " 'complet': 11593,\n",
       " 'wast': 63471,\n",
       " 'disgrac': 15499,\n",
       " 'fallen': 19235,\n",
       " 'write': 64922,\n",
       " 'pain': 42475,\n",
       " 'bad': 3891,\n",
       " 'almost': 1436,\n",
       " 'mildli': 37426,\n",
       " 'entertain': 18089,\n",
       " 'respit': 48133,\n",
       " 'hard': 25048,\n",
       " 'creator': 12757,\n",
       " 'origin': 41790,\n",
       " 'also': 1489,\n",
       " 'chose': 10374,\n",
       " 'band': 4185,\n",
       " 'hack': 24580,\n",
       " 'follow': 20721,\n",
       " 'recogn': 47417,\n",
       " 'brillianc': 7390,\n",
       " 'fit': 20255,\n",
       " 'replac': 47989,\n",
       " 'mediocr': 36618,\n",
       " 'felt': 19732,\n",
       " 'star': 54951,\n",
       " 'respect': 48129,\n",
       " 'made': 34806,\n",
       " 'huge': 27062,\n",
       " 'aw': 3618,\n",
       " 'ca': 8261,\n",
       " 'posit': 45042,\n",
       " 'comment': 11499,\n",
       " 'forward': 20953,\n",
       " 'mistak': 37864,\n",
       " 'worst': 64834,\n",
       " 'storylin': 55478,\n",
       " 'soundtrack': 54169,\n",
       " 'song': 53981,\n",
       " 'lame': 32302,\n",
       " 'countri': 12487,\n",
       " 'tune': 59958,\n",
       " 'less': 33144,\n",
       " 'four': 20993,\n",
       " 'cheap': 9913,\n",
       " 'happi': 25019,\n",
       " 'end': 17923,\n",
       " 'credit': 12766,\n",
       " 'prevent': 45491,\n",
       " 'harvey': 25210,\n",
       " 'keitel': 30738,\n",
       " 'least': 32815,\n",
       " 'bit': 5847,\n",
       " 'effort': 17347,\n",
       " 'obsess': 41108,\n",
       " 'gut': 24432,\n",
       " 'wrench': 64896,\n",
       " 'laughter': 32647,\n",
       " 'hell': 25694,\n",
       " 'mom': 38147,\n",
       " 'camp': 8573,\n",
       " 'alien': 1295,\n",
       " 'quirki': 46589,\n",
       " 'humour': 27143,\n",
       " 'base': 4487,\n",
       " 'odd': 41210,\n",
       " 'everyth': 18680,\n",
       " 'actual': 435,\n",
       " 'progress': 45704,\n",
       " 'joke': 29808,\n",
       " 'low': 34196,\n",
       " 'budget': 7787,\n",
       " 'problem': 45629,\n",
       " 'eventu': 18645,\n",
       " 'lost': 34083,\n",
       " 'imagin': 27671,\n",
       " 'stoner': 55416,\n",
       " 'current': 13270,\n",
       " 'someth': 53935,\n",
       " 'better': 5436,\n",
       " 'tri': 59545,\n",
       " 'brother': 7581,\n",
       " 'planet': 44393,\n",
       " 'came': 8528,\n",
       " 'recal': 47371,\n",
       " 'scariest': 50508,\n",
       " 'bird': 5782,\n",
       " 'eat': 17117,\n",
       " 'men': 36838,\n",
       " 'dangl': 13668,\n",
       " 'helplessli': 25741,\n",
       " 'parachut': 42738,\n",
       " 'horror': 26799,\n",
       " 'cheesi': 9978,\n",
       " 'saturday': 50326,\n",
       " 'afternoon': 771,\n",
       " 'tire': 58641,\n",
       " 'formula': 20903,\n",
       " 'monster': 38282,\n",
       " 'type': 60210,\n",
       " 'usual': 61865,\n",
       " 'includ': 27952,\n",
       " 'beauti': 4806,\n",
       " 'woman': 64639,\n",
       " 'might': 37352,\n",
       " 'daughter': 13857,\n",
       " 'professor': 45676,\n",
       " 'resolut': 48119,\n",
       " 'die': 15128,\n",
       " 'care': 8864,\n",
       " 'much': 38822,\n",
       " 'romant': 48999,\n",
       " 'angl': 2010,\n",
       " 'predict': 45306,\n",
       " 'unintent': 61155,\n",
       " 'later': 32581,\n",
       " 'psycho': 45979,\n",
       " 'janet': 29253,\n",
       " 'leigh': 32970,\n",
       " 'bump': 7925,\n",
       " 'earli': 17055,\n",
       " 'sat': 50276,\n",
       " 'took': 58936,\n",
       " 'notic': 40732,\n",
       " 'screenwrit': 50972,\n",
       " 'scari': 50506,\n",
       " 'possibl': 45056,\n",
       " 'rule': 49439,\n",
       " 'im': 27665,\n",
       " 'fan': 19286,\n",
       " 'boll': 6505,\n",
       " 'enjoy': 18012,\n",
       " 'postal': 45059,\n",
       " 'mayb': 36135,\n",
       " 'appar': 2451,\n",
       " 'bought': 6872,\n",
       " 'cri': 12819,\n",
       " 'long': 33939,\n",
       " 'ago': 849,\n",
       " 'game': 21917,\n",
       " 'finsish': 20157,\n",
       " 'merc': 36940,\n",
       " 'infiltr': 28194,\n",
       " 'secret': 51180,\n",
       " 'research': 48070,\n",
       " 'lab': 32095,\n",
       " 'locat': 33804,\n",
       " 'tropic': 59730,\n",
       " 'island': 28922,\n",
       " 'warn': 63410,\n",
       " 'mr': 38783,\n",
       " 'scheme': 50613,\n",
       " 'togeth': 58788,\n",
       " 'along': 1448,\n",
       " 'legion': 32931,\n",
       " 'schmuck': 50704,\n",
       " 'loneley': 33929,\n",
       " 'invit': 28722,\n",
       " 'three': 58298,\n",
       " 'countrymen': 12491,\n",
       " 'player': 44459,\n",
       " 'name': 39442,\n",
       " 'til': 58506,\n",
       " 'schweiger': 50827,\n",
       " 'udo': 60304,\n",
       " 'kier': 31031,\n",
       " 'ralf': 46898,\n",
       " 'self': 51311,\n",
       " 'biz': 5875,\n",
       " 'tale': 57116,\n",
       " 'jack': 29094,\n",
       " 'carver': 9080,\n",
       " 'ye': 65275,\n",
       " 'german': 22493,\n",
       " 'hail': 24687,\n",
       " 'bratwurst': 7135,\n",
       " 'dude': 16656,\n",
       " 'howev': 26957,\n",
       " 'badass': 3896,\n",
       " 'complain': 11587,\n",
       " 'stay': 55071,\n",
       " 'true': 59782,\n",
       " 'whole': 64104,\n",
       " 'perspect': 43639,\n",
       " 'kick': 30991,\n",
       " 'beyond': 5482,\n",
       " 'dement': 14462,\n",
       " 'evil': 18698,\n",
       " 'mad': 34778,\n",
       " 'scientist': 50850,\n",
       " 'krieger': 31799,\n",
       " 'gm': 23096,\n",
       " 'remind': 47852,\n",
       " 'spoiler': 54570,\n",
       " 'vancouv': 62084,\n",
       " 'reason': 47314,\n",
       " 'palm': 42558,\n",
       " 'tree': 59475,\n",
       " 'rich': 48415,\n",
       " 'gone': 23330,\n",
       " 'start': 55013,\n",
       " 'meheh': 36705,\n",
       " 'shenanigan': 52036,\n",
       " 'deliv': 14401,\n",
       " 'mean': 36530,\n",
       " 'impli': 27800,\n",
       " 'area': 2682,\n",
       " 'boat': 6331,\n",
       " 'squad': 54722,\n",
       " 'enter': 18080,\n",
       " 'reek': 47573,\n",
       " 'scheiss': 50605,\n",
       " 'poop': 44886,\n",
       " 'simpleton': 52786,\n",
       " 'fa': 19076,\n",
       " 'take': 57077,\n",
       " 'wiff': 64210,\n",
       " 'ahead': 905,\n",
       " 'btw': 7717,\n",
       " 'annoy': 2137,\n",
       " 'sidekick': 52594,\n",
       " 'shoot': 52317,\n",
       " 'minut': 37668,\n",
       " 'screen': 50964,\n",
       " 'shakespear': 51769,\n",
       " 'appreci': 2517,\n",
       " 'mass': 35885,\n",
       " 'scottish': 50913,\n",
       " 'certain': 9549,\n",
       " 'rev': 48243,\n",
       " 'bowdler': 6931,\n",
       " 'henc': 25777,\n",
       " 'victorian': 62571,\n",
       " 'improv': 27847,\n",
       " 'ten': 57720,\n",
       " 'text': 57942,\n",
       " 'english': 17987,\n",
       " 'composit': 11621,\n",
       " 'fort': 20925,\n",
       " 'keep': 30704,\n",
       " 'cut': 13323,\n",
       " 'fantast': 19341,\n",
       " 'famou': 19284,\n",
       " 'georg': 22447,\n",
       " 'clooney': 11018,\n",
       " 'roll': 48958,\n",
       " 'man': 35284,\n",
       " 'constant': 11931,\n",
       " 'sorrow': 54104,\n",
       " 'recommand': 47430,\n",
       " 'everybodi': 18674,\n",
       " 'bart': 4456,\n",
       " 'kind': 31132,\n",
       " 'drawn': 16388,\n",
       " 'erot': 18314,\n",
       " 'amateurish': 1603,\n",
       " 'unbeliev': 60558,\n",
       " 'school': 50737,\n",
       " 'project': 45711,\n",
       " 'rosanna': 49105,\n",
       " 'arquett': 2857,\n",
       " 'stock': 55369,\n",
       " 'bizarr': 5877,\n",
       " 'suppos': 56385,\n",
       " 'midwest': 37335,\n",
       " 'town': 59169,\n",
       " 'involv': 28730,\n",
       " 'lesson': 33148,\n",
       " 'learn': 32807,\n",
       " 'insight': 28390,\n",
       " 'stilt': 55315,\n",
       " 'ridicul': 48476,\n",
       " 'lot': 34085,\n",
       " 'skin': 53065,\n",
       " 'intrigu': 28654,\n",
       " 'videotap': 62599,\n",
       " 'nonsens': 40577,\n",
       " 'bisexu': 5827,\n",
       " 'relationship': 47772,\n",
       " 'nowher': 40790,\n",
       " 'heterosexu': 25978,\n",
       " 'absurd': 230,\n",
       " 'danc': 13634,\n",
       " 'stereotyp': 55229,\n",
       " 'pass': 42964,\n",
       " 'million': 37499,\n",
       " 'mile': 37429,\n",
       " 'spent': 54419,\n",
       " 'starv': 55019,\n",
       " 'aid': 939,\n",
       " 'africa': 750,\n",
       " 'simpli': 52788,\n",
       " 'remad': 47817,\n",
       " 'fail': 19169,\n",
       " 'captur': 8796,\n",
       " 'flavor': 20398,\n",
       " 'terror': 57861,\n",
       " 'titl': 58679,\n",
       " 'neeson': 39814,\n",
       " 'excel': 18768,\n",
       " 'alway': 1554,\n",
       " 'hold': 26449,\n",
       " 'except': 18771,\n",
       " 'owen': 42322,\n",
       " 'wilson': 64324,\n",
       " 'feel': 19655,\n",
       " 'luke': 34359,\n",
       " 'major': 35070,\n",
       " 'fault': 19541,\n",
       " 'version': 62452,\n",
       " 'stray': 55587,\n",
       " 'shirley': 52211,\n",
       " 'jackson': 29117,\n",
       " 'attempt': 3319,\n",
       " 'grandios': 23664,\n",
       " 'thrill': 58313,\n",
       " 'earlier': 17056,\n",
       " 'trade': 59240,\n",
       " 'snazzier': 53584,\n",
       " 'special': 54345,\n",
       " 'effect': 17332,\n",
       " 'friction': 21324,\n",
       " 'older': 41421,\n",
       " 'top': 58968,\n",
       " 'chanc': 9686,\n",
       " 'busi': 8109,\n",
       " 'run': 49469,\n",
       " 'sword': 56761,\n",
       " 'emot': 17835,\n",
       " 'attach': 3311,\n",
       " 'machin': 34698,\n",
       " 'want': 63362,\n",
       " 'destroy': 14822,\n",
       " 'blatantli': 6044,\n",
       " 'stolen': 55398,\n",
       " 'lotr': 34094,\n",
       " 'war': 63368,\n",
       " 'matrix': 36027,\n",
       " 'exampl': 18755,\n",
       " 'ghost': 22608,\n",
       " 'final': 20092,\n",
       " 'yoda': 65391,\n",
       " 'obe': 41046,\n",
       " 'vader': 61945,\n",
       " 'spider': 54449,\n",
       " 'begin': 4965,\n",
       " 'frodo': 21407,\n",
       " 'attack': 3313,\n",
       " 'return': 48229,\n",
       " 'king': 31158,\n",
       " 'elijah': 17609,\n",
       " 'wood': 64672,\n",
       " 'victim': 62562,\n",
       " 'wait': 63236,\n",
       " 'hypnot': 27352,\n",
       " 'sting': 55323,\n",
       " 'wrap': 64882,\n",
       " 'uh': 60343,\n",
       " 'hello': 25719,\n",
       " 'termin': 57825,\n",
       " 'someon': 53928,\n",
       " 'nazi': 39703,\n",
       " 'juvenil': 30128,\n",
       " 'rush': 49505,\n",
       " 'conclus': 11702,\n",
       " 'adult': 620,\n",
       " 'either': 17480,\n",
       " 'rememb': 47841,\n",
       " 'cinema': 10606,\n",
       " 'dark': 13754,\n",
       " 'nervou': 39947,\n",
       " 'dad': 13470,\n",
       " 'sister': 52926,\n",
       " 'newburi': 40043,\n",
       " 'berkshir': 5300,\n",
       " 'england': 17983,\n",
       " 'tiger': 58484,\n",
       " 'snow': 53665,\n",
       " 'appear': 2466,\n",
       " 'grizzli': 23988,\n",
       " 'adam': 466,\n",
       " 'dan': 13629,\n",
       " 'haggeri': 24652,\n",
       " 'anyon': 2330,\n",
       " 'dvd': 16927,\n",
       " 'etc': 18509,\n",
       " 'pleas': 44488,\n",
       " 'club': 11060,\n",
       " 'shame': 51815,\n",
       " 'nearest': 39739,\n",
       " 'hear': 25485,\n",
       " 'other': 41935,\n",
       " 'stinker': 55332,\n",
       " 'nomin': 40520,\n",
       " 'golden': 23248,\n",
       " 'globe': 23040,\n",
       " 'femal': 19735,\n",
       " 'renaiss': 47884,\n",
       " 'painter': 42485,\n",
       " 'mangl': 35365,\n",
       " 'recognit': 47419,\n",
       " 'complaint': 11588,\n",
       " 'liberti': 33284,\n",
       " 'perfectli': 43520,\n",
       " 'fine': 20108,\n",
       " 'account': 307,\n",
       " 'artist': 2947,\n",
       " 'script': 50998,\n",
       " 'enough': 18035,\n",
       " 'nake': 39423,\n",
       " 'factual': 19140,\n",
       " 'hurriedli': 27222,\n",
       " 'cap': 8730,\n",
       " 'summari': 56146,\n",
       " 'save': 50379,\n",
       " 'coupl': 12497,\n",
       " 'hour': 26905,\n",
       " 'favor': 19562,\n",
       " 'breviti': 7302,\n",
       " 'sequel': 51483,\n",
       " 'surpris': 56467,\n",
       " 'glut': 23084,\n",
       " 'cash': 9107,\n",
       " 'wrong': 64933,\n",
       " 'guy': 24454,\n",
       " 'concept': 11674,\n",
       " 'cliffhang': 10946,\n",
       " 'mountain': 38683,\n",
       " 'rescu': 48067,\n",
       " 'sli': 53255,\n",
       " 'stallon': 54891,\n",
       " 'dream': 16400,\n",
       " 'especi': 18415,\n",
       " 'expert': 18908,\n",
       " 'climb': 10958,\n",
       " 'aviat': 3584,\n",
       " 'facial': 19119,\n",
       " 'express': 18955,\n",
       " 'full': 21548,\n",
       " 'excus': 18814,\n",
       " 'dismiss': 15550,\n",
       " 'overblown': 42133,\n",
       " 'pile': 44136,\n",
       " 'junk': 30074,\n",
       " 'hors': 26809,\n",
       " 'lovabl': 34163,\n",
       " 'undeni': 60736,\n",
       " 'romp': 49026,\n",
       " 'plenti': 44512,\n",
       " 'john': 29784,\n",
       " 'lithgow': 33655,\n",
       " 'sneeri': 53597,\n",
       " 'tick': 58446,\n",
       " 'box': 6952,\n",
       " 'baddi': 3906,\n",
       " 'perman': 43572,\n",
       " 'harass': 25038,\n",
       " 'hapless': 25012,\n",
       " 'agent': 802,\n",
       " 'rex': 48315,\n",
       " 'linn': 33552,\n",
       " 'henri': 25812,\n",
       " 'rooker': 49053,\n",
       " 'noteworthi': 40724,\n",
       " 'hal': 24733,\n",
       " 'insist': 28399,\n",
       " 'constantli': 11935,\n",
       " 'shriek': 52430,\n",
       " 'disbelief': 15418,\n",
       " 'captor': 8795,\n",
       " 'hurt': 27227,\n",
       " 'anybodi': 2322,\n",
       " 'whilst': 63996,\n",
       " 'ralph': 46901,\n",
       " 'frank': 21110,\n",
       " 'grin': 23945,\n",
       " 'girl': 22853,\n",
       " 'plummet': 44576,\n",
       " 'former': 20896,\n",
       " 'burn': 8044,\n",
       " 'craig': 12655,\n",
       " 'fairbrass': 19181,\n",
       " 'brit': 7432,\n",
       " 'cropper': 12966,\n",
       " 'footbal': 20768,\n",
       " 'help': 25738,\n",
       " 'judgement': 29986,\n",
       " 'lower': 34205,\n",
       " 'volum': 63003,\n",
       " 'qaulen': 46370,\n",
       " 'helicopt': 25689,\n",
       " 'misfortun': 37772,\n",
       " 'aspect': 3092,\n",
       " 'sequenc': 51486,\n",
       " 'fake': 19205,\n",
       " 'pack': 42408,\n",
       " 'crappi': 12690,\n",
       " 'amus': 1801,\n",
       " 'gear': 22265,\n",
       " 'toward': 59165,\n",
       " 'women': 64646,\n",
       " 'utterli': 61898,\n",
       " 'unattract': 60530,\n",
       " 'wrinkl': 64915,\n",
       " 'weird': 63726,\n",
       " 'horribl': 26787,\n",
       " 'costum': 12396,\n",
       " 'miser': 37761,\n",
       " 'absolut': 212,\n",
       " 'hr': 26981,\n",
       " 'wo': 64583,\n",
       " 'regret': 47666,\n",
       " 'rajnikanth': 46878,\n",
       " 'carri': 9016,\n",
       " 'shoulder': 52367,\n",
       " 'although': 1517,\n",
       " 'anyth': 2333,\n",
       " 'music': 39114,\n",
       " 'grow': 24070,\n",
       " 'heard': 25487,\n",
       " 'straight': 55519,\n",
       " 'anim': 2048,\n",
       " 'matter': 36042,\n",
       " 'speed': 54382,\n",
       " 'racer': 46673,\n",
       " 'preschool': 45413,\n",
       " 'sever': 51628,\n",
       " 'hilari': 26132,\n",
       " 'godzilla': 23192,\n",
       " 'move': 38715,\n",
       " 'fx': 21701,\n",
       " 'boom': 6671,\n",
       " 'wwwaaaaayyyyy': 65011,\n",
       " 'wors': 64828,\n",
       " 'crissak': 12883,\n",
       " 'vividli': 62906,\n",
       " 'bunch': 7937,\n",
       " 'dinosaur': 15316,\n",
       " 'addit': 488,\n",
       " 'transit': 59338,\n",
       " 'unorgan': 61311,\n",
       " 'dub': 16604,\n",
       " 'horrid': 26788,\n",
       " 'beg': 4954,\n",
       " 'tape': 57278,\n",
       " 'vh': 62510,\n",
       " 'kept': 30824,\n",
       " 'surviv': 56489,\n",
       " 'crack': 12622,\n",
       " 'robot': 48797,\n",
       " 'pick': 44040,\n",
       " 'season': 51129,\n",
       " ...}"
      ]
     },
     "execution_count": 108,
     "metadata": {},
     "output_type": "execute_result"
    }
   ],
   "source": [
    "v = cv.transform(corpus1)\n",
    "cv.get_feature_names_out()\n",
    "cv.vocabulary_"
   ]
  },
  {
   "cell_type": "code",
   "execution_count": 109,
   "metadata": {},
   "outputs": [
    {
     "data": {
      "text/plain": [
       "(1, 66135)"
      ]
     },
     "execution_count": 109,
     "metadata": {},
     "output_type": "execute_result"
    }
   ],
   "source": [
    "arr = v.toarray()\n",
    "arr.shape"
   ]
  },
  {
   "cell_type": "markdown",
   "metadata": {},
   "source": [
    "#### unseen preprocessed data for applying on the model"
   ]
  },
  {
   "cell_type": "markdown",
   "metadata": {},
   "source": [
    "##### Logistic regression"
   ]
  },
  {
   "cell_type": "code",
   "execution_count": 110,
   "metadata": {},
   "outputs": [
    {
     "data": {
      "text/plain": [
       "array([1])"
      ]
     },
     "execution_count": 110,
     "metadata": {},
     "output_type": "execute_result"
    }
   ],
   "source": [
    "lr.predict(arr)"
   ]
  },
  {
   "cell_type": "markdown",
   "metadata": {},
   "source": [
    "##### Naive bayes"
   ]
  },
  {
   "cell_type": "code",
   "execution_count": 111,
   "metadata": {},
   "outputs": [
    {
     "data": {
      "text/plain": [
       "array([0])"
      ]
     },
     "execution_count": 111,
     "metadata": {},
     "output_type": "execute_result"
    }
   ],
   "source": [
    "nb.predict(arr)"
   ]
  },
  {
   "cell_type": "markdown",
   "metadata": {},
   "source": [
    "##### SVM"
   ]
  },
  {
   "cell_type": "code",
   "execution_count": 112,
   "metadata": {},
   "outputs": [
    {
     "data": {
      "text/plain": [
       "array([1])"
      ]
     },
     "execution_count": 112,
     "metadata": {},
     "output_type": "execute_result"
    }
   ],
   "source": [
    "svm.predict(arr)"
   ]
  },
  {
   "cell_type": "markdown",
   "metadata": {},
   "source": [
    "##### Decision Tree"
   ]
  },
  {
   "cell_type": "code",
   "execution_count": 113,
   "metadata": {},
   "outputs": [
    {
     "data": {
      "text/plain": [
       "array([1])"
      ]
     },
     "execution_count": 113,
     "metadata": {},
     "output_type": "execute_result"
    }
   ],
   "source": [
    "dtc.predict(arr)"
   ]
  },
  {
   "cell_type": "markdown",
   "metadata": {},
   "source": [
    "##### Random Forest"
   ]
  },
  {
   "cell_type": "code",
   "execution_count": 114,
   "metadata": {},
   "outputs": [
    {
     "data": {
      "text/plain": [
       "array([1])"
      ]
     },
     "execution_count": 114,
     "metadata": {},
     "output_type": "execute_result"
    }
   ],
   "source": [
    "rfc.predict(arr)"
   ]
  },
  {
   "cell_type": "code",
   "execution_count": null,
   "metadata": {},
   "outputs": [],
   "source": []
  }
 ],
 "metadata": {
  "kernelspec": {
   "display_name": ".venv",
   "language": "python",
   "name": "python3"
  },
  "language_info": {
   "codemirror_mode": {
    "name": "ipython",
    "version": 3
   },
   "file_extension": ".py",
   "mimetype": "text/x-python",
   "name": "python",
   "nbconvert_exporter": "python",
   "pygments_lexer": "ipython3",
   "version": "3.10.12"
  }
 },
 "nbformat": 4,
 "nbformat_minor": 2
}
